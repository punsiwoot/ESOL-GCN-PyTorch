{
 "cells": [
  {
   "cell_type": "code",
   "execution_count": 1,
   "metadata": {},
   "outputs": [],
   "source": [
    "import numpy as np"
   ]
  },
  {
   "cell_type": "code",
   "execution_count": 2,
   "metadata": {},
   "outputs": [
    {
     "data": {
      "text/plain": [
       "((5, 5), (5, 4))"
      ]
     },
     "execution_count": 2,
     "metadata": {},
     "output_type": "execute_result"
    }
   ],
   "source": [
    "#message passing in simple graph convolution\n",
    "adjacency_matrix = np.array([\n",
    "    [0, 1, 0, 0, 1],\n",
    "    [1, 0, 0, 1, 1],\n",
    "    [0, 0, 0, 0, 1],\n",
    "    [0, 1, 0, 0, 0],\n",
    "    [1, 1, 1, 0, 0]\n",
    "])\n",
    "\n",
    "node_feature = np.array([\n",
    "    [2, 1, 1, 2],\n",
    "    [1, 2, 2, 1],\n",
    "    [3, 1, 1, 3],\n",
    "    [1, 3, 3, 1],\n",
    "    [1, 1, 3, 2]\n",
    "])\n",
    "adjacency_matrix.shape, node_feature.shape"
   ]
  },
  {
   "cell_type": "code",
   "execution_count": 3,
   "metadata": {},
   "outputs": [
    {
     "data": {
      "text/plain": [
       "(array([[1., 0., 0., 0., 0.],\n",
       "        [0., 1., 0., 0., 0.],\n",
       "        [0., 0., 1., 0., 0.],\n",
       "        [0., 0., 0., 1., 0.],\n",
       "        [0., 0., 0., 0., 1.]]),\n",
       " array([[2, 0, 0, 0, 0],\n",
       "        [0, 3, 0, 0, 0],\n",
       "        [0, 0, 1, 0, 0],\n",
       "        [0, 0, 0, 1, 0],\n",
       "        [0, 0, 0, 0, 3]]),\n",
       " array([[3, 0, 0, 0, 0],\n",
       "        [0, 4, 0, 0, 0],\n",
       "        [0, 0, 2, 0, 0],\n",
       "        [0, 0, 0, 2, 0],\n",
       "        [0, 0, 0, 0, 4]]))"
      ]
     },
     "execution_count": 3,
     "metadata": {},
     "output_type": "execute_result"
    }
   ],
   "source": [
    "I = np.identity(5)\n",
    "\n",
    "node_degree = np.array([2,3,1,1,3])\n",
    "D = np.diag(node_degree)\n",
    "D_tilda = np.diag(node_degree+1)\n",
    "I,D,D_tilda"
   ]
  },
  {
   "cell_type": "code",
   "execution_count": 4,
   "metadata": {},
   "outputs": [
    {
     "data": {
      "text/plain": [
       "(array([[1., 1., 0., 0., 1.],\n",
       "        [1., 1., 0., 1., 1.],\n",
       "        [0., 0., 1., 0., 1.],\n",
       "        [0., 1., 0., 1., 0.],\n",
       "        [1., 1., 1., 0., 1.]]),\n",
       " array([[3, 0, 0, 0, 0],\n",
       "        [0, 4, 0, 0, 0],\n",
       "        [0, 0, 2, 0, 0],\n",
       "        [0, 0, 0, 2, 0],\n",
       "        [0, 0, 0, 0, 4]]))"
      ]
     },
     "execution_count": 4,
     "metadata": {},
     "output_type": "execute_result"
    }
   ],
   "source": [
    "adjacency_matrix_tilda = adjacency_matrix + I\n",
    "adjacency_matrix_tilda,D_tilda\n"
   ]
  },
  {
   "cell_type": "code",
   "execution_count": 19,
   "metadata": {},
   "outputs": [
    {
     "data": {
      "text/plain": [
       "(array([[0.33333333, 0.33333333, 0.        , 0.        , 0.33333333],\n",
       "        [0.25      , 0.25      , 0.        , 0.25      , 0.25      ],\n",
       "        [0.        , 0.        , 0.5       , 0.        , 0.5       ],\n",
       "        [0.        , 0.5       , 0.        , 0.5       , 0.        ],\n",
       "        [0.25      , 0.25      , 0.25      , 0.        , 0.25      ]]),\n",
       " '',\n",
       " (array([-0.09685647,  0.43018981,  1.        , -0.1830127 ,  0.6830127 ]),\n",
       "  array([[ 6.43194517e-01, -5.58338266e-01, -4.47213595e-01,\n",
       "           1.66081031e-16, -1.44623126e-16],\n",
       "         [-4.15043586e-01, -8.11180117e-02, -4.47213595e-01,\n",
       "           5.70563204e-01, -2.43049408e-01],\n",
       "         [ 3.47691284e-01,  5.80989723e-01, -4.47213595e-01,\n",
       "           4.17681254e-01,  6.64023332e-01],\n",
       "         [ 3.47691284e-01,  5.80989723e-01, -4.47213595e-01,\n",
       "          -4.17681254e-01, -6.64023332e-01],\n",
       "         [-4.15043586e-01, -8.11180117e-02, -4.47213595e-01,\n",
       "          -5.70563204e-01,  2.43049408e-01]])),\n",
       " '',\n",
       " '',\n",
       " array([[0.33333333, 0.25      , 0.        , 0.        , 0.25      ],\n",
       "        [0.33333333, 0.25      , 0.        , 0.5       , 0.25      ],\n",
       "        [0.        , 0.        , 0.5       , 0.        , 0.25      ],\n",
       "        [0.        , 0.25      , 0.        , 0.5       , 0.        ],\n",
       "        [0.33333333, 0.25      , 0.5       , 0.        , 0.25      ]]),\n",
       " '',\n",
       " (array([ 1.        , -0.09685647,  0.43018981,  0.6830127 , -0.1830127 ]),\n",
       "  array([[ 4.28571429e-01,  6.04094196e-01,  7.00565197e-01,\n",
       "           5.13417464e-16,  9.34938055e-17],\n",
       "         [ 5.71428571e-01, -5.19750329e-01,  1.35708546e-01,\n",
       "          -4.17681254e-01, -6.64023332e-01],\n",
       "         [ 2.85714286e-01,  2.17703231e-01, -4.85991145e-01,\n",
       "           5.70563204e-01, -2.43049408e-01],\n",
       "         [ 2.85714286e-01,  2.17703231e-01, -4.85991145e-01,\n",
       "          -5.70563204e-01,  2.43049408e-01],\n",
       "         [ 5.71428571e-01, -5.19750329e-01,  1.35708546e-01,\n",
       "           4.17681254e-01,  6.64023332e-01]])),\n",
       " '',\n",
       " '',\n",
       " array([[0.11111111, 0.08333333, 0.        , 0.        , 0.08333333],\n",
       "        [0.08333333, 0.0625    , 0.        , 0.125     , 0.0625    ],\n",
       "        [0.        , 0.        , 0.25      , 0.        , 0.125     ],\n",
       "        [0.        , 0.125     , 0.        , 0.25      , 0.        ],\n",
       "        [0.08333333, 0.0625    , 0.125     , 0.        , 0.0625    ]]),\n",
       " '',\n",
       " (array([-0.0295939 ,  0.16940243,  0.34630258,  0.3017767 , -0.0517767 ]),\n",
       "  array([[ 6.07415907e-01, -7.38594634e-01, -2.92444667e-01,\n",
       "           6.00566910e-16,  1.33849489e-16],\n",
       "         [-5.12798759e-01, -2.58321940e-01, -4.12682938e-01,\n",
       "          -2.70598050e-01, -6.53281482e-01],\n",
       "         [ 2.29260530e-01,  4.00635444e-01, -5.35659267e-01,\n",
       "           6.53281482e-01, -2.70598050e-01],\n",
       "         [ 2.29260530e-01,  4.00635444e-01, -5.35659267e-01,\n",
       "          -6.53281482e-01,  2.70598050e-01],\n",
       "         [-5.12798759e-01, -2.58321940e-01, -4.12682938e-01,\n",
       "           2.70598050e-01,  6.53281482e-01]])),\n",
       " '',\n",
       " '',\n",
       " array([[0.33333333, 0.28867513, 0.        , 0.        , 0.28867513],\n",
       "        [0.28867513, 0.25      , 0.        , 0.35355339, 0.25      ],\n",
       "        [0.        , 0.        , 0.5       , 0.        , 0.35355339],\n",
       "        [0.        , 0.35355339, 0.        , 0.5       , 0.        ],\n",
       "        [0.28867513, 0.25      , 0.35355339, 0.        , 0.25      ]]),\n",
       " '',\n",
       " (array([-0.09685647,  0.43018981,  1.        ,  0.6830127 , -0.1830127 ]),\n",
       "  array([[ 6.32455532e-01, -6.32455532e-01, -4.47213595e-01,\n",
       "          -5.58563745e-17,  1.82578573e-16],\n",
       "         [-4.71249320e-01, -1.06100949e-01, -5.16397779e-01,\n",
       "          -3.25057584e-01, -6.27963030e-01],\n",
       "         [ 2.79148846e-01,  5.37347735e-01, -3.65148372e-01,\n",
       "           6.27963030e-01, -3.25057584e-01],\n",
       "         [ 2.79148846e-01,  5.37347735e-01, -3.65148372e-01,\n",
       "          -6.27963030e-01,  3.25057584e-01],\n",
       "         [-4.71249320e-01, -1.06100949e-01, -5.16397779e-01,\n",
       "           3.25057584e-01,  6.27963030e-01]])))"
      ]
     },
     "execution_count": 19,
     "metadata": {},
     "output_type": "execute_result"
    }
   ],
   "source": [
    "norm_adjacency = np.linalg.inv(D_tilda) @ adjacency_matrix_tilda #@ np.linalg.inv(np.sqrt(D_tilda))\n",
    "norm_adjacency_1 = adjacency_matrix_tilda @ np.linalg.inv(D_tilda)\n",
    "norm_adjacency_2 = np.linalg.inv(D_tilda) @ adjacency_matrix_tilda @ np.linalg.inv(D_tilda)\n",
    "norm_adjacency_3 = np.linalg.inv(np.sqrt(D_tilda)) @ adjacency_matrix_tilda @ np.linalg.inv(np.sqrt(D_tilda))\n",
    "norm_adjacency,'',np.linalg.eig(norm_adjacency),'',\"\",norm_adjacency_1,'',np.linalg.eig(norm_adjacency_1),\"\",'',norm_adjacency_2,'',np.linalg.eig(norm_adjacency_2),\"\",'',norm_adjacency_3,'',np.linalg.eig(norm_adjacency_3)"
   ]
  },
  {
   "cell_type": "code",
   "execution_count": 6,
   "metadata": {},
   "outputs": [
    {
     "name": "stderr",
     "output_type": "stream",
     "text": [
      "C:\\Users\\User\\AppData\\Local\\Temp\\ipykernel_13768\\1655878677.py:10: RuntimeWarning: overflow encountered in matmul\n",
      "  h_w = adjacency_matrix_tilda@h_w\n",
      "C:\\Users\\User\\AppData\\Local\\Temp\\ipykernel_13768\\1655878677.py:10: RuntimeWarning: invalid value encountered in matmul\n",
      "  h_w = adjacency_matrix_tilda@h_w\n"
     ]
    }
   ],
   "source": [
    "#message passing\n",
    "iteration = 1000\n",
    "H = []\n",
    "H_without_norm = []\n",
    "h = node_feature\n",
    "h_w = node_feature\n",
    "\n",
    "for i in range(iteration):\n",
    "    h = norm_adjacency@h\n",
    "    h_w = adjacency_matrix_tilda@h_w\n",
    "    H_without_norm.append(h_w)\n",
    "    H.append(h)\n",
    "    "
   ]
  },
  {
   "cell_type": "code",
   "execution_count": 7,
   "metadata": {},
   "outputs": [
    {
     "data": {
      "text/plain": [
       "(array([[1.46666667, 1.53333333, 2.06666667, 1.73333333],\n",
       "        [1.46666667, 1.53333333, 2.06666667, 1.73333333],\n",
       "        [1.46666667, 1.53333333, 2.06666667, 1.73333333],\n",
       "        [1.46666667, 1.53333333, 2.06666667, 1.73333333],\n",
       "        [1.46666667, 1.53333333, 2.06666667, 1.73333333]]),\n",
       " array([[3.87368996e+52, 3.96673301e+52, 5.38202040e+52, 4.58133366e+52],\n",
       "        [4.46011944e+52, 4.56724807e+52, 6.19679273e+52, 5.27489177e+52],\n",
       "        [1.93684498e+52, 1.98336651e+52, 2.69101020e+52, 2.29066683e+52],\n",
       "        [1.93684498e+52, 1.98336651e+52, 2.69101020e+52, 2.29066683e+52],\n",
       "        [4.46011944e+52, 4.56724807e+52, 6.19679273e+52, 5.27489177e+52]]))"
      ]
     },
     "execution_count": 7,
     "metadata": {},
     "output_type": "execute_result"
    }
   ],
   "source": [
    "H[300],H_without_norm[100]"
   ]
  },
  {
   "cell_type": "code",
   "execution_count": 8,
   "metadata": {},
   "outputs": [],
   "source": [
    "#for second\n"
   ]
  }
 ],
 "metadata": {
  "kernelspec": {
   "display_name": "Python 3",
   "language": "python",
   "name": "python3"
  },
  "language_info": {
   "codemirror_mode": {
    "name": "ipython",
    "version": 3
   },
   "file_extension": ".py",
   "mimetype": "text/x-python",
   "name": "python",
   "nbconvert_exporter": "python",
   "pygments_lexer": "ipython3",
   "version": "3.9.11"
  },
  "orig_nbformat": 4
 },
 "nbformat": 4,
 "nbformat_minor": 2
}
