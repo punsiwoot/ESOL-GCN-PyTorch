{
 "cells": [
  {
   "cell_type": "code",
   "execution_count": 1,
   "metadata": {},
   "outputs": [
    {
     "name": "stderr",
     "output_type": "stream",
     "text": [
      "c:\\Users\\User\\AppData\\Local\\Programs\\Python\\Python39\\lib\\site-packages\\tqdm\\auto.py:22: TqdmWarning: IProgress not found. Please update jupyter and ipywidgets. See https://ipywidgets.readthedocs.io/en/stable/user_install.html\n",
      "  from .autonotebook import tqdm as notebook_tqdm\n"
     ]
    },
    {
     "name": "stdout",
     "output_type": "stream",
     "text": [
      "Dataset features:  9\n",
      "Dataset length:  <bound method InMemoryDataset.len of ESOL(1128)>\n",
      "Dataset sample:  Data(x=[32, 9], edge_index=[2, 68], edge_attr=[68, 3], smiles='OCC3OC(OCC2OC(OC(C#N)c1ccccc1)C(O)C(O)C2O)C(O)C(O)C3O ', y=[1, 1])\n"
     ]
    },
    {
     "data": {
      "text/plain": [
       "tensor([[8, 0, 2, 5, 1, 0, 4, 0, 0],\n",
       "        [6, 0, 4, 5, 2, 0, 4, 0, 0],\n",
       "        [6, 0, 4, 5, 1, 0, 4, 0, 1],\n",
       "        [8, 0, 2, 5, 0, 0, 4, 0, 1],\n",
       "        [6, 0, 4, 5, 1, 0, 4, 0, 1],\n",
       "        [8, 0, 2, 5, 0, 0, 4, 0, 0],\n",
       "        [6, 0, 4, 5, 2, 0, 4, 0, 0],\n",
       "        [6, 0, 4, 5, 1, 0, 4, 0, 1],\n",
       "        [8, 0, 2, 5, 0, 0, 4, 0, 1],\n",
       "        [6, 0, 4, 5, 1, 0, 4, 0, 1],\n",
       "        [8, 0, 2, 5, 0, 0, 4, 0, 0],\n",
       "        [6, 0, 4, 5, 1, 0, 4, 0, 0],\n",
       "        [6, 0, 2, 5, 0, 0, 2, 0, 0],\n",
       "        [7, 0, 1, 5, 0, 0, 2, 0, 0],\n",
       "        [6, 0, 3, 5, 0, 0, 3, 1, 1],\n",
       "        [6, 0, 3, 5, 1, 0, 3, 1, 1],\n",
       "        [6, 0, 3, 5, 1, 0, 3, 1, 1],\n",
       "        [6, 0, 3, 5, 1, 0, 3, 1, 1],\n",
       "        [6, 0, 3, 5, 1, 0, 3, 1, 1],\n",
       "        [6, 0, 3, 5, 1, 0, 3, 1, 1],\n",
       "        [6, 0, 4, 5, 1, 0, 4, 0, 1],\n",
       "        [8, 0, 2, 5, 1, 0, 4, 0, 0],\n",
       "        [6, 0, 4, 5, 1, 0, 4, 0, 1],\n",
       "        [8, 0, 2, 5, 1, 0, 4, 0, 0],\n",
       "        [6, 0, 4, 5, 1, 0, 4, 0, 1],\n",
       "        [8, 0, 2, 5, 1, 0, 4, 0, 0],\n",
       "        [6, 0, 4, 5, 1, 0, 4, 0, 1],\n",
       "        [8, 0, 2, 5, 1, 0, 4, 0, 0],\n",
       "        [6, 0, 4, 5, 1, 0, 4, 0, 1],\n",
       "        [8, 0, 2, 5, 1, 0, 4, 0, 0],\n",
       "        [6, 0, 4, 5, 1, 0, 4, 0, 1],\n",
       "        [8, 0, 2, 5, 1, 0, 4, 0, 0]])"
      ]
     },
     "execution_count": 1,
     "metadata": {},
     "output_type": "execute_result"
    }
   ],
   "source": [
    "#import estential tool\n",
    "import rdkit\n",
    "from rdkit import Chem\n",
    "from rdkit.Chem.Draw import IPythonConsole\n",
    "import torch_geometric\n",
    "from torch_geometric.datasets import MoleculeNet\n",
    "from torch_geometric.data import Data\n",
    "import networkx as nx\n",
    "import seaborn as sb\n",
    "import sklearn\n",
    "from sklearn.metrics import mean_squared_error\n",
    "\n",
    "#for trainning\n",
    "from torch_geometric.data import DataLoader\n",
    "import warnings\n",
    "warnings.filterwarnings(\"ignore\")\n",
    "import torch\n",
    "from torch.nn import Linear\n",
    "import torch.nn.functional as F\n",
    "from torch_geometric.nn import GCNConv, TopKPooling, global_mean_pool\n",
    "from torch_geometric.nn import global_mean_pool as gap, global_max_pool as gmp\n",
    "torch.manual_seed(42)\n",
    "device = torch.device(\"cuda:0\" if torch.cuda.is_available() else \"cpu\")\n",
    "import matplotlib.pyplot as plt\n",
    "import numpy as np\n",
    "import pandas as pd\n",
    "\n",
    "# Download dataset\n",
    "data = MoleculeNet(root=\".\", name=\"ESOL\")\n",
    "print(\"Dataset features: \", data.num_features)\n",
    "print(\"Dataset length: \", data.len)\n",
    "print(\"Dataset sample: \", data[0])\n",
    "data[0].x"
   ]
  },
  {
   "cell_type": "code",
   "execution_count": 2,
   "metadata": {},
   "outputs": [
    {
     "data": {
      "text/plain": [
       "tensor([[8, 0, 2, 5, 1, 0, 4, 0, 0],\n",
       "        [6, 0, 4, 5, 2, 0, 4, 0, 0],\n",
       "        [6, 0, 4, 5, 1, 0, 4, 0, 1],\n",
       "        [8, 0, 2, 5, 0, 0, 4, 0, 1],\n",
       "        [6, 0, 4, 5, 1, 0, 4, 0, 1],\n",
       "        [8, 0, 2, 5, 0, 0, 4, 0, 0],\n",
       "        [6, 0, 4, 5, 2, 0, 4, 0, 0],\n",
       "        [6, 0, 4, 5, 1, 0, 4, 0, 1],\n",
       "        [8, 0, 2, 5, 0, 0, 4, 0, 1],\n",
       "        [6, 0, 4, 5, 1, 0, 4, 0, 1],\n",
       "        [8, 0, 2, 5, 0, 0, 4, 0, 0],\n",
       "        [6, 0, 4, 5, 1, 0, 4, 0, 0],\n",
       "        [6, 0, 2, 5, 0, 0, 2, 0, 0],\n",
       "        [7, 0, 1, 5, 0, 0, 2, 0, 0],\n",
       "        [6, 0, 3, 5, 0, 0, 3, 1, 1],\n",
       "        [6, 0, 3, 5, 1, 0, 3, 1, 1],\n",
       "        [6, 0, 3, 5, 1, 0, 3, 1, 1],\n",
       "        [6, 0, 3, 5, 1, 0, 3, 1, 1],\n",
       "        [6, 0, 3, 5, 1, 0, 3, 1, 1],\n",
       "        [6, 0, 3, 5, 1, 0, 3, 1, 1],\n",
       "        [6, 0, 4, 5, 1, 0, 4, 0, 1],\n",
       "        [8, 0, 2, 5, 1, 0, 4, 0, 0],\n",
       "        [6, 0, 4, 5, 1, 0, 4, 0, 1],\n",
       "        [8, 0, 2, 5, 1, 0, 4, 0, 0],\n",
       "        [6, 0, 4, 5, 1, 0, 4, 0, 1],\n",
       "        [8, 0, 2, 5, 1, 0, 4, 0, 0],\n",
       "        [6, 0, 4, 5, 1, 0, 4, 0, 1],\n",
       "        [8, 0, 2, 5, 1, 0, 4, 0, 0],\n",
       "        [6, 0, 4, 5, 1, 0, 4, 0, 1],\n",
       "        [8, 0, 2, 5, 1, 0, 4, 0, 0],\n",
       "        [6, 0, 4, 5, 1, 0, 4, 0, 1],\n",
       "        [8, 0, 2, 5, 1, 0, 4, 0, 0]])"
      ]
     },
     "execution_count": 2,
     "metadata": {},
     "output_type": "execute_result"
    }
   ],
   "source": [
    "data[0].x"
   ]
  },
  {
   "cell_type": "code",
   "execution_count": 3,
   "metadata": {},
   "outputs": [
    {
     "data": {
      "text/plain": [
       "tensor([[ 0,  1,  1,  2,  2,  2,  3,  3,  4,  4,  4,  5,  5,  6,  6,  7,  7,  7,\n",
       "          8,  8,  9,  9,  9, 10, 10, 11, 11, 11, 12, 12, 13, 14, 14, 14, 15, 15,\n",
       "         16, 16, 17, 17, 18, 18, 19, 19, 20, 20, 20, 21, 22, 22, 22, 23, 24, 24,\n",
       "         24, 25, 26, 26, 26, 27, 28, 28, 28, 29, 30, 30, 30, 31],\n",
       "        [ 1,  0,  2,  1,  3, 30,  2,  4,  3,  5, 26,  4,  6,  5,  7,  6,  8, 24,\n",
       "          7,  9,  8, 10, 20,  9, 11, 10, 12, 14, 11, 13, 12, 11, 15, 19, 14, 16,\n",
       "         15, 17, 16, 18, 17, 19, 14, 18,  9, 21, 22, 20, 20, 23, 24, 22,  7, 22,\n",
       "         25, 24,  4, 27, 28, 26, 26, 29, 30, 28,  2, 28, 31, 30]])"
      ]
     },
     "execution_count": 3,
     "metadata": {},
     "output_type": "execute_result"
    }
   ],
   "source": [
    "data[0].edge_index"
   ]
  },
  {
   "cell_type": "code",
   "execution_count": 4,
   "metadata": {},
   "outputs": [
    {
     "data": {
      "image/png": "[encoded data removed]",
      "text/plain": [
       "<rdkit.Chem.rdchem.Mol at 0x2c832988d60>"
      ]
     },
     "execution_count": 4,
     "metadata": {},
     "output_type": "execute_result"
    }
   ],
   "source": [
    "molecule = Chem.MolFromSmiles(data[0][\"smiles\"])\n",
    "molecule"
   ]
  },
  {
   "cell_type": "code",
   "execution_count": 5,
   "metadata": {},
   "outputs": [
    {
     "data": {
      "image/png": "[encoded data removed]",
      "text/plain": [
       "<Figure size 640x480 with 1 Axes>"
      ]
     },
     "metadata": {},
     "output_type": "display_data"
    }
   ],
   "source": [
    "show = Data(x=data[0].x, edge_index=data[0].edge_index)\n",
    "g = torch_geometric.utils.to_networkx(show, to_undirected=True)\n",
    "nx.draw(g,pos=nx.spring_layout(g,seed = 2),with_labels=True)"
   ]
  },
  {
   "cell_type": "code",
   "execution_count": 6,
   "metadata": {},
   "outputs": [],
   "source": [
    "# first model\n",
    "embedding_size = 64\n",
    "class GCN_first_model(torch.nn.Module):\n",
    "    def __init__(self):\n",
    "        # Init parent\n",
    "        super(GCN_first_model, self).__init__()\n",
    "\n",
    "        # define layer\n",
    "        self.initial_conv = GCNConv(data.num_features, embedding_size)\n",
    "        self.conv1 = GCNConv(embedding_size, embedding_size)\n",
    "        self.conv2 = GCNConv(embedding_size, embedding_size)\n",
    "    \n",
    "        # define linear layer\n",
    "        self.out = Linear(embedding_size*2, 1)\n",
    "\n",
    "    def forward(self, x, edge_index, batch_index):\n",
    "        \n",
    "        # first layer\n",
    "        hidden = self.initial_conv(x, edge_index)\n",
    "        hidden = F.relu(hidden)\n",
    "        # second layer\n",
    "        hidden = self.conv1(hidden, edge_index)\n",
    "        hidden = F.relu(hidden)\n",
    "        # third layer\n",
    "        hidden = self.conv2(hidden, edge_index)\n",
    "        hidden = F.relu(hidden)\n",
    "\n",
    "        # global pooling\n",
    "        hidden = torch.cat([gmp(hidden, batch_index),\n",
    "                            gap(hidden, batch_index)], dim=1)\n",
    "\n",
    "        # apply linear layer\n",
    "        out = self.out(hidden)\n",
    "        return out\n",
    "\n",
    "# second model\n",
    "embedding_size = 32\n",
    "class GCN_second_model(torch.nn.Module):\n",
    "    def __init__(self):\n",
    "        # Init parent\n",
    "        super(GCN_second_model, self).__init__()\n",
    "\n",
    "        # define layer\n",
    "        self.initial_conv = GCNConv(data.num_features, embedding_size)\n",
    "        self.conv1 = GCNConv(embedding_size, embedding_size)\n",
    "        self.conv2 = GCNConv(embedding_size, embedding_size)\n",
    "    \n",
    "        # define linear layer\n",
    "        self.out = Linear(embedding_size*2, 1)\n",
    "\n",
    "    def forward(self, x, edge_index, batch_index):\n",
    "        \n",
    "        # first layer\n",
    "        hidden = self.initial_conv(x, edge_index)\n",
    "        hidden = F.relu(hidden)\n",
    "        # second layer\n",
    "        hidden = self.conv1(hidden, edge_index)\n",
    "        hidden = F.relu(hidden)\n",
    "        # third layer\n",
    "        hidden = self.conv2(hidden, edge_index)\n",
    "        hidden = F.relu(hidden)\n",
    "\n",
    "        # global pooling\n",
    "        hidden = torch.cat([gmp(hidden, batch_index),\n",
    "                            gap(hidden, batch_index)], dim=1)\n",
    "\n",
    "        # apply linear layer\n",
    "        out = self.out(hidden)\n",
    "        return out\n",
    "\n",
    "# third model\n",
    "embedding_size = 128\n",
    "class GCN_third_model(torch.nn.Module):\n",
    "    def __init__(self):\n",
    "        # Init parent\n",
    "        super(GCN_third_model, self).__init__()\n",
    "\n",
    "        # define layer\n",
    "        self.initial_conv = GCNConv(data.num_features, embedding_size)\n",
    "        self.conv1 = GCNConv(embedding_size, embedding_size)\n",
    "        self.conv2 = GCNConv(embedding_size, embedding_size)\n",
    "    \n",
    "        # define linear layer\n",
    "        self.out = Linear(embedding_size*2, 1)\n",
    "\n",
    "    def forward(self, x, edge_index, batch_index):\n",
    "        \n",
    "        # first layer\n",
    "        hidden = self.initial_conv(x, edge_index)\n",
    "        hidden = F.relu(hidden)\n",
    "        # second layer\n",
    "        hidden = self.conv1(hidden, edge_index)\n",
    "        hidden = F.relu(hidden)\n",
    "        # third layer\n",
    "        hidden = self.conv2(hidden, edge_index)\n",
    "        hidden = F.relu(hidden)\n",
    "\n",
    "        # global pooling\n",
    "        hidden = torch.cat([gmp(hidden, batch_index),\n",
    "                            gap(hidden, batch_index)], dim=1)\n",
    "\n",
    "        # apply linear layer\n",
    "        out = self.out(hidden)\n",
    "        return out\n"
   ]
  },
  {
   "cell_type": "code",
   "execution_count": 7,
   "metadata": {},
   "outputs": [],
   "source": [
    "# setup dataset\n",
    "data_size = len(data)\n",
    "NUM_GRAPHS_PER_BATCH = 32\n",
    "training_set = DataLoader(data[:int(data_size * 0.7)],\n",
    "                    batch_size=NUM_GRAPHS_PER_BATCH, shuffle=True)\n",
    "test_set = DataLoader(data[int(data_size * 0.7):int(data_size * 0.85)],\n",
    "                         batch_size=NUM_GRAPHS_PER_BATCH, shuffle=True)\n",
    "validation_set = DataLoader(data[int(data_size * 0.85):],\n",
    "                         batch_size=NUM_GRAPHS_PER_BATCH, shuffle=True)\n",
    "\n",
    "\n",
    "class EarlyStopping:\n",
    "    def __init__(self, tolerance=5, min_delta=0):\n",
    "        self.tolerance = tolerance\n",
    "        self.min_delta = min_delta\n",
    "        self.counter = 0\n",
    "        self.early_stop = False\n",
    "        self.best_validation_loss = float('inf')\n",
    "\n",
    "    def __call__(self, train_loss, validation_loss):\n",
    "        if train_loss > (self.best_validation_loss - self.min_delta):\n",
    "            self.counter = 0\n",
    "            self.best_validation_loss = validation_loss\n",
    "\n",
    "        elif  self.best_validation_loss - self.min_delta > train_loss  :\n",
    "            self.best_validation_loss = validation_loss\n",
    "            self.counter += 1\n",
    "            print(f'case valid better case {self.counter}')\n",
    "            if self.counter >= self.tolerance:\n",
    "                self.early_stop = True\n",
    "\n",
    "        else : \n",
    "            print('something wrong')\n",
    "\n"
   ]
  },
  {
   "cell_type": "code",
   "execution_count": 8,
   "metadata": {},
   "outputs": [],
   "source": [
    "# setup model\n",
    "loss_fn = torch.nn.MSELoss()\n",
    "\n",
    "#first model\n",
    "first_model = GCN_first_model()\n",
    "optimizer_first = torch.optim.Adam(first_model.parameters(), lr=0.0007)\n",
    "\n",
    "#second model\n",
    "second_model = GCN_second_model()\n",
    "optimizer_second = torch.optim.Adam(second_model.parameters(), lr=0.0007)\n",
    "\n",
    "#second model\n",
    "third_model = GCN_third_model()\n",
    "optimizer_third = torch.optim.Adam(third_model.parameters(), lr=0.0007)\n",
    "\n",
    "# training function\n",
    "def train(model,optimizer,loss_fn,epochs:int=1000, is_early_stop:bool = True):\n",
    "    earlystop = EarlyStopping(tolerance=7,min_delta=1)\n",
    "    train_losses_epoch = []\n",
    "    valid_losses_epoch = []\n",
    "    stop_at_epoch = epochs\n",
    "    for epoch in range(epochs):\n",
    "        model = model.to(device)\n",
    "        train_losses = []\n",
    "        valid_losses = []\n",
    "\n",
    "        #train step\n",
    "        for batch in training_set:\n",
    "            # Use GPU\n",
    "            batch.to(device)\n",
    "            # Reset gradients\n",
    "            optimizer.zero_grad()\n",
    "            # Passing the node features and the connection info\n",
    "            pred  = model(batch.x.float(), batch.edge_index, batch.batch)\n",
    "            # Calculating the loss and gradients\n",
    "            train_loss = loss_fn(pred, batch.y)\n",
    "            train_loss.backward()\n",
    "            float_train_loss = float(train_loss.detach().numpy().astype(float))\n",
    "            train_losses.append(float_train_loss)\n",
    "            # Update using the gradients\n",
    "            optimizer.step()\n",
    "        \n",
    "        #valid step\n",
    "        model.eval()\n",
    "        for batch in validation_set:\n",
    "            # Use GPU\n",
    "            batch.to(device)\n",
    "            # Passing the node features and the connection info\n",
    "            pred = model(batch.x.float(), batch.edge_index, batch.batch)\n",
    "            # Calculating the loss\n",
    "            valid_loss = loss_fn(pred, batch.y)\n",
    "            float_valid_loss = float(valid_loss.detach().numpy().astype(float))\n",
    "            valid_losses.append(float_valid_loss)\n",
    "        \n",
    "        #calculate average loss\n",
    "        average_train_loss = sum(train_losses)/len(train_losses)\n",
    "        average_valid_loss = sum(valid_losses)/len(valid_losses)\n",
    "        train_losses_epoch.append(average_train_loss)\n",
    "        valid_losses_epoch.append(average_valid_loss)\n",
    "        earlystop(train_loss=average_train_loss, validation_loss=average_valid_loss)\n",
    "        if earlystop.early_stop and is_early_stop:\n",
    "            stop_at_epoch = epoch+1\n",
    "            print(f'result at {epoch+1} is {earlystop.early_stop}')\n",
    "            break\n",
    "    test_result = test(model,loss_fn=loss_fn)\n",
    "    return train_losses_epoch, valid_losses_epoch, stop_at_epoch , [test_result,train_losses_epoch[-1], valid_losses_epoch[-1]]\n",
    "\n",
    "def test(model,loss_fn):\n",
    "    test_loss_list = []\n",
    "    for batch in test_set:\n",
    "        batch.to(device)\n",
    "        # Passing the node features and the connection info\n",
    "        pred = model(batch.x.float(), batch.edge_index, batch.batch)\n",
    "        # Calculating the loss\n",
    "        test_loss = loss_fn(pred, batch.y)\n",
    "        float_test_loss = float(test_loss.detach().numpy().astype(float))\n",
    "        test_loss_list.append(float_test_loss)\n",
    "    average_train_loss = sum(test_loss_list)/len(test_loss_list)\n",
    "    return average_train_loss\n"
   ]
  },
  {
   "cell_type": "code",
   "execution_count": 9,
   "metadata": {},
   "outputs": [
    {
     "name": "stdout",
     "output_type": "stream",
     "text": [
      "case valid better case 1\n",
      "case valid better case 1\n"
     ]
    }
   ],
   "source": [
    "train_losses, valid_losses, stop_at_epoch, result = train(model=first_model,optimizer=optimizer_first,loss_fn=loss_fn)"
   ]
  },
  {
   "cell_type": "code",
   "execution_count": 10,
   "metadata": {},
   "outputs": [
    {
     "data": {
      "text/plain": [
       "(1000, 0.7086683809757233)"
      ]
     },
     "execution_count": 10,
     "metadata": {},
     "output_type": "execute_result"
    }
   ],
   "source": [
    "stop_at_epoch,test_result"
   ]
  },
  {
   "cell_type": "code",
   "execution_count": null,
   "metadata": {},
   "outputs": [],
   "source": [
    "train_losses, valid_losses, stop_at_epoch, test_result = train(model=first_model,optimizer=optimizer_first,loss_fn=loss_fn,is_early_stop=False)"
   ]
  },
  {
   "cell_type": "code",
   "execution_count": 59,
   "metadata": {},
   "outputs": [
    {
     "data": {
      "text/plain": [
       "0.7804011205832163"
      ]
     },
     "execution_count": 59,
     "metadata": {},
     "output_type": "execute_result"
    }
   ],
   "source": [
    "test_result"
   ]
  },
  {
   "cell_type": "code",
   "execution_count": 53,
   "metadata": {},
   "outputs": [],
   "source": [
    "# train_lossed_list = [float(i.detach().numpy().astype(float)) for i in train_losses]\n",
    "# valid_lossed_list = [float(i.detach().numpy().astype(float)) for i in valid_losses]"
   ]
  },
  {
   "cell_type": "code",
   "execution_count": 66,
   "metadata": {},
   "outputs": [
    {
     "data": {
      "text/plain": [
       "13.481454849243164"
      ]
     },
     "execution_count": 66,
     "metadata": {},
     "output_type": "execute_result"
    }
   ],
   "source": [
    "float(train_losses)"
   ]
  },
  {
   "cell_type": "code",
   "execution_count": 11,
   "metadata": {},
   "outputs": [
    {
     "data": {
      "image/png": "[encoded data removed]",
      "text/plain": [
       "<Figure size 640x480 with 1 Axes>"
      ]
     },
     "metadata": {},
     "output_type": "display_data"
    },
    {
     "data": {
      "image/png": "[encoded data removed]",
      "text/plain": [
       "<Figure size 640x480 with 1 Axes>"
      ]
     },
     "metadata": {},
     "output_type": "display_data"
    },
    {
     "data": {
      "text/plain": [
       "7"
      ]
     },
     "execution_count": 11,
     "metadata": {},
     "output_type": "execute_result"
    }
   ],
   "source": [
    "plt.figure()\n",
    "plt.plot(train_losses)\n",
    "plt.show()\n",
    "plt.figure()\n",
    "plt.plot(valid_losses)\n",
    "plt.show()\n",
    "stop_at_epoch\n"
   ]
  },
  {
   "cell_type": "code",
   "execution_count": 40,
   "metadata": {},
   "outputs": [
    {
     "name": "stdout",
     "output_type": "stream",
     "text": [
      "Starting training...\n",
      "Epoch 0 | Train Loss 4.54939603805542\n",
      "Epoch 100 | Train Loss 1.5579652786254883\n",
      "Epoch 200 | Train Loss 2.6277196407318115\n",
      "Epoch 300 | Train Loss 0.37277689576148987\n",
      "Epoch 400 | Train Loss 0.47624853253364563\n",
      "Epoch 500 | Train Loss 0.7442011833190918\n",
      "Epoch 600 | Train Loss 0.5013490319252014\n",
      "Epoch 700 | Train Loss 0.3040367066860199\n",
      "Epoch 800 | Train Loss 0.1414112150669098\n",
      "Epoch 900 | Train Loss 0.5435447096824646\n"
     ]
    }
   ],
   "source": [
    "# # Root mean squared error\n",
    "# loss_fn = torch.nn.MSELoss()\n",
    "# optimizer = torch.optim.Adam(model.parameters(), lr=0.0007)\n",
    "\n",
    "# # Use GPU for training\n",
    "# device = torch.device(\"cuda:0\" if torch.cuda.is_available() else \"cpu\")\n",
    "# model = model.to(device)\n",
    "\n",
    "# # Wrap data in a data loader\n",
    "# data_size = len(data)\n",
    "# NUM_GRAPHS_PER_BATCH = 32\n",
    "# loader = DataLoader(data[:int(data_size * 0.8)],\n",
    "#                     batch_size=NUM_GRAPHS_PER_BATCH, shuffle=True)\n",
    "# test_loader = DataLoader(data[int(data_size * 0.8):],\n",
    "#                          batch_size=NUM_GRAPHS_PER_BATCH, shuffle=True)\n",
    "\n",
    "# def train(data):\n",
    "#     # Enumerate over the data\n",
    "#     for batch in loader:\n",
    "#       # Use GPU\n",
    "#       batch.to(device)\n",
    "#       # Reset gradients\n",
    "#       optimizer.zero_grad()\n",
    "#       # Passing the node features and the connection info\n",
    "#       pred, embedding = model(batch.x.float(), batch.edge_index, batch.batch)\n",
    "#       # Calculating the loss and gradients\n",
    "#       loss = loss_fn(pred, batch.y)\n",
    "#       loss.backward()\n",
    "#       # Update using the gradients\n",
    "#       optimizer.step()\n",
    "#     return loss, embedding\n",
    "\n",
    "# print(\"Starting training...\")\n",
    "# losses = []\n",
    "# for epoch in range(1000):\n",
    "#     loss, h = train(data)\n",
    "#     losses.append(loss)\n",
    "#     if epoch % 100 == 0:\n",
    "#       print(f\"Epoch {epoch} | Train Loss {loss} \")"
   ]
  },
  {
   "cell_type": "code",
   "execution_count": null,
   "metadata": {},
   "outputs": [],
   "source": []
  },
  {
   "cell_type": "code",
   "execution_count": 41,
   "metadata": {},
   "outputs": [
    {
     "data": {
      "text/html": [
       "<div>\n",
       "<style scoped>\n",
       "    .dataframe tbody tr th:only-of-type {\n",
       "        vertical-align: middle;\n",
       "    }\n",
       "\n",
       "    .dataframe tbody tr th {\n",
       "        vertical-align: top;\n",
       "    }\n",
       "\n",
       "    .dataframe thead th {\n",
       "        text-align: right;\n",
       "    }\n",
       "</style>\n",
       "<table border=\"1\" class=\"dataframe\">\n",
       "  <thead>\n",
       "    <tr style=\"text-align: right;\">\n",
       "      <th></th>\n",
       "      <th>y_real</th>\n",
       "      <th>y_pred</th>\n",
       "    </tr>\n",
       "  </thead>\n",
       "  <tbody>\n",
       "    <tr>\n",
       "      <th>0</th>\n",
       "      <td>-2.281</td>\n",
       "      <td>-2.237818</td>\n",
       "    </tr>\n",
       "    <tr>\n",
       "      <th>1</th>\n",
       "      <td>-1.890</td>\n",
       "      <td>-1.250625</td>\n",
       "    </tr>\n",
       "    <tr>\n",
       "      <th>2</th>\n",
       "      <td>-2.461</td>\n",
       "      <td>-1.644531</td>\n",
       "    </tr>\n",
       "    <tr>\n",
       "      <th>3</th>\n",
       "      <td>-4.570</td>\n",
       "      <td>-3.882949</td>\n",
       "    </tr>\n",
       "    <tr>\n",
       "      <th>4</th>\n",
       "      <td>-1.300</td>\n",
       "      <td>-1.675418</td>\n",
       "    </tr>\n",
       "    <tr>\n",
       "      <th>...</th>\n",
       "      <td>...</td>\n",
       "      <td>...</td>\n",
       "    </tr>\n",
       "    <tr>\n",
       "      <th>59</th>\n",
       "      <td>-2.460</td>\n",
       "      <td>-2.281416</td>\n",
       "    </tr>\n",
       "    <tr>\n",
       "      <th>60</th>\n",
       "      <td>-1.740</td>\n",
       "      <td>-1.923831</td>\n",
       "    </tr>\n",
       "    <tr>\n",
       "      <th>61</th>\n",
       "      <td>-2.350</td>\n",
       "      <td>-3.024125</td>\n",
       "    </tr>\n",
       "    <tr>\n",
       "      <th>62</th>\n",
       "      <td>-4.310</td>\n",
       "      <td>-3.305684</td>\n",
       "    </tr>\n",
       "    <tr>\n",
       "      <th>63</th>\n",
       "      <td>0.150</td>\n",
       "      <td>0.170895</td>\n",
       "    </tr>\n",
       "  </tbody>\n",
       "</table>\n",
       "<p>64 rows × 2 columns</p>\n",
       "</div>"
      ],
      "text/plain": [
       "    y_real    y_pred\n",
       "0   -2.281 -2.237818\n",
       "1   -1.890 -1.250625\n",
       "2   -2.461 -1.644531\n",
       "3   -4.570 -3.882949\n",
       "4   -1.300 -1.675418\n",
       "..     ...       ...\n",
       "59  -2.460 -2.281416\n",
       "60  -1.740 -1.923831\n",
       "61  -2.350 -3.024125\n",
       "62  -4.310 -3.305684\n",
       "63   0.150  0.170895\n",
       "\n",
       "[64 rows x 2 columns]"
      ]
     },
     "execution_count": 41,
     "metadata": {},
     "output_type": "execute_result"
    }
   ],
   "source": [
    "# import pandas as pd\n",
    "\n",
    "# # Analyze the results for one batch\n",
    "# test_batch = next(iter(test_loader))\n",
    "# with torch.no_grad():\n",
    "#     test_batch.to(device)\n",
    "#     pred, embed = model(test_batch.x.float(), test_batch.edge_index, test_batch.batch)\n",
    "#     df = pd.DataFrame()\n",
    "#     df[\"y_real\"] = test_batch.y.tolist()\n",
    "#     df[\"y_pred\"] = pred.tolist()\n",
    "# df[\"y_real\"] = df[\"y_real\"].apply(lambda row: row[0])\n",
    "# df[\"y_pred\"] = df[\"y_pred\"].apply(lambda row: row[0])\n",
    "# df"
   ]
  },
  {
   "cell_type": "code",
   "execution_count": 47,
   "metadata": {},
   "outputs": [
    {
     "data": {
      "text/plain": [
       "[(-7.0, 2.0)]"
      ]
     },
     "execution_count": 47,
     "metadata": {},
     "output_type": "execute_result"
    },
    {
     "data": {
      "image/png": "[encoded data removed]",
      "text/plain": [
       "<Figure size 640x480 with 1 Axes>"
      ]
     },
     "metadata": {},
     "output_type": "display_data"
    }
   ],
   "source": [
    "# plt = sb.scatterplot(data=df, x=\"y_real\", y=\"y_pred\")\n",
    "# plt.set(xlim=(-7, 2))\n",
    "# plt.set(ylim=(-7, 2))\n"
   ]
  },
  {
   "cell_type": "code",
   "execution_count": 53,
   "metadata": {},
   "outputs": [
    {
     "data": {
      "text/plain": [
       "0.8329761435263996"
      ]
     },
     "execution_count": 53,
     "metadata": {},
     "output_type": "execute_result"
    }
   ],
   "source": [
    "# sklearn.metrics.mean_squared_error(df['y_real'], df['y_pred'])"
   ]
  },
  {
   "cell_type": "code",
   "execution_count": null,
   "metadata": {},
   "outputs": [],
   "source": []
  }
 ],
 "metadata": {
  "kernelspec": {
   "display_name": "Python 3",
   "language": "python",
   "name": "python3"
  },
  "language_info": {
   "codemirror_mode": {
    "name": "ipython",
    "version": 3
   },
   "file_extension": ".py",
   "mimetype": "text/x-python",
   "name": "python",
   "nbconvert_exporter": "python",
   "pygments_lexer": "ipython3",
   "version": "3.9.11"
  }
 },
 "nbformat": 4,
 "nbformat_minor": 2
}
