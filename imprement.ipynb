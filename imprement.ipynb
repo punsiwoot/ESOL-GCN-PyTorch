{
 "cells": [
  {
   "cell_type": "code",
   "execution_count": 49,
   "metadata": {},
   "outputs": [],
   "source": [
    "#import estential tool\n",
    "import rdkit\n",
    "from rdkit import Chem\n",
    "from rdkit.Chem.Draw import IPythonConsole\n",
    "import torch_geometric\n",
    "from torch_geometric.datasets import MoleculeNet\n",
    "from torch_geometric.data import Data\n",
    "import networkx as nx\n",
    "import seaborn as sb\n",
    "import sklearn\n",
    "from sklearn.metrics import mean_squared_error\n",
    "\n",
    "#for trainning\n",
    "from torch_geometric.data import DataLoader\n",
    "import warnings\n",
    "warnings.filterwarnings(\"ignore\")\n",
    "import torch\n",
    "from torch.nn import Linear\n",
    "from torch.nn import init\n",
    "import torch.nn.functional as F\n",
    "from torch_geometric.nn import GCNConv, TopKPooling, global_mean_pool\n",
    "from torch_geometric.nn import global_mean_pool as gap, global_max_pool as gmp\n",
    "device = torch.device(\"cuda:0\" if torch.cuda.is_available() else \"cpu\")\n",
    "import matplotlib.pyplot as plt\n",
    "import numpy as np\n",
    "import pandas as pd\n",
    "\n",
    "seed_value = 42\n",
    "torch.manual_seed(seed_value)\n",
    "np.random.seed(seed_value)\n",
    "# Download dataset\n",
    "\n",
    "data = MoleculeNet(root=\".\", name=\"ESOL\")"
   ]
  },
  {
   "cell_type": "markdown",
   "metadata": {},
   "source": [
    "# Modeling"
   ]
  },
  {
   "cell_type": "code",
   "execution_count": 50,
   "metadata": {},
   "outputs": [],
   "source": [
    "# first model\n",
    "embedding_size = 64\n",
    "class GCN_first_model(torch.nn.Module):\n",
    "    def __init__(self):\n",
    "        torch.manual_seed(seed_value)\n",
    "        # Init parent\n",
    "        super(GCN_first_model, self).__init__()\n",
    "\n",
    "        # define layer\n",
    "        self.initial_conv = GCNConv(data.num_features, embedding_size)\n",
    "        self.conv1 = GCNConv(embedding_size, embedding_size)\n",
    "        self.conv2 = GCNConv(embedding_size, embedding_size)\n",
    "    \n",
    "        # define linear layer\n",
    "        self.out = Linear(embedding_size*2, 1)\n",
    "    \n",
    "    def init_weights(self):\n",
    "        # Use Xavier/Glorot initialization for GCNConv layers\n",
    "        for layer in [self.initial_conv, self.conv1, self.conv2]:\n",
    "            if isinstance(layer, GCNConv):\n",
    "                # layer.reset_parameters()\n",
    "                if isinstance(layer, GCNConv):\n",
    "                    init.normal_(layer.lin.weight)\n",
    "                    if layer.bias is not None:\n",
    "                        init.zeros_(layer.bias)\n",
    "\n",
    "        # Initialize weights for the Linear layer\n",
    "        init.xavier_normal_(self.out.weight)\n",
    "        if self.out.bias is not None:\n",
    "            init.zeros_(self.out.bias)\n",
    "\n",
    "    def forward(self, x, edge_index, batch_index):\n",
    "        \n",
    "        # first layer\n",
    "        hidden = self.initial_conv(x, edge_index)\n",
    "        hidden = F.relu(hidden)\n",
    "        # second layer\n",
    "        hidden = self.conv1(hidden, edge_index)\n",
    "        hidden = F.relu(hidden)\n",
    "        # third layer\n",
    "        hidden = self.conv2(hidden, edge_index)\n",
    "        hidden = F.relu(hidden)\n",
    "\n",
    "        # global pooling\n",
    "        hidden = torch.cat([gmp(hidden, batch_index),\n",
    "                            gap(hidden, batch_index)], dim=1)\n",
    "                            \n",
    "\n",
    "        # apply linear layer\n",
    "        out = self.out(hidden)\n",
    "        return out\n",
    "    \n",
    "\n",
    "# second model\n",
    "embedding_size = 32\n",
    "class GCN_second_model(torch.nn.Module):\n",
    "    def __init__(self):\n",
    "        torch.manual_seed(seed_value)\n",
    "        # Init parent\n",
    "        super(GCN_second_model, self).__init__()\n",
    "\n",
    "        # define layer\n",
    "        self.initial_conv = GCNConv(data.num_features, embedding_size)\n",
    "        self.conv1 = GCNConv(embedding_size, embedding_size)\n",
    "        self.conv2 = GCNConv(embedding_size, embedding_size)\n",
    "    \n",
    "        # define linear layer\n",
    "        self.out = Linear(embedding_size*2, 1)\n",
    "\n",
    "    def init_weights(self):\n",
    "        # Use Xavier/Glorot initialization for GCNConv layers\n",
    "        for layer in [self.initial_conv, self.conv1, self.conv2]:\n",
    "            if isinstance(layer, GCNConv):\n",
    "                # layer.reset_parameters()\n",
    "                if isinstance(layer, GCNConv):\n",
    "                    init.normal_(layer.lin.weight)\n",
    "                    if layer.bias is not None:\n",
    "                        init.zeros_(layer.bias)\n",
    "\n",
    "        # Initialize weights for the Linear layer\n",
    "        init.xavier_normal_(self.out.weight)\n",
    "        if self.out.bias is not None:\n",
    "            init.zeros_(self.out.bias)\n",
    "\n",
    "    def forward(self, x, edge_index, batch_index):\n",
    "        \n",
    "        # first layer\n",
    "        hidden = self.initial_conv(x, edge_index)\n",
    "        hidden = F.relu(hidden)\n",
    "        # second layer\n",
    "        hidden = self.conv1(hidden, edge_index)\n",
    "        hidden = F.relu(hidden)\n",
    "        # third layer\n",
    "        hidden = self.conv2(hidden, edge_index)\n",
    "        hidden = F.relu(hidden)\n",
    "\n",
    "        # global pooling\n",
    "        hidden = torch.cat([gmp(hidden, batch_index),\n",
    "                            gap(hidden, batch_index)], dim=1)\n",
    "\n",
    "        # apply linear layer\n",
    "        out = self.out(hidden)\n",
    "        return out\n",
    "\n",
    "# third model\n",
    "embedding_size = 128\n",
    "class GCN_third_model(torch.nn.Module):\n",
    "    def __init__(self):\n",
    "        torch.manual_seed(seed_value)\n",
    "        # Init parent\n",
    "        super(GCN_third_model, self).__init__()\n",
    "\n",
    "        # define layer\n",
    "        self.initial_conv = GCNConv(data.num_features, embedding_size)\n",
    "        self.conv1 = GCNConv(embedding_size, embedding_size)\n",
    "        self.conv2 = GCNConv(embedding_size, embedding_size)\n",
    "    \n",
    "        # define linear layer\n",
    "        self.out = Linear(embedding_size*2, 1)\n",
    "\n",
    "    def init_weights(self):\n",
    "        # Use Xavier/Glorot initialization for GCNConv layers\n",
    "        for layer in [self.initial_conv, self.conv1, self.conv2]:\n",
    "            if isinstance(layer, GCNConv):\n",
    "                # layer.reset_parameters()\n",
    "                if isinstance(layer, GCNConv):\n",
    "                    init.normal_(layer.lin.weight)\n",
    "                    if layer.bias is not None:\n",
    "                        init.zeros_(layer.bias)\n",
    "\n",
    "        # Initialize weights for the Linear layer\n",
    "        init.xavier_normal_(self.out.weight)\n",
    "        if self.out.bias is not None:\n",
    "            init.zeros_(self.out.bias)\n",
    "\n",
    "    def forward(self, x, edge_index, batch_index):\n",
    "        \n",
    "        # first layer\n",
    "        hidden = self.initial_conv(x, edge_index)\n",
    "        hidden = F.relu(hidden)\n",
    "        # second layer\n",
    "        hidden = self.conv1(hidden, edge_index)\n",
    "        hidden = F.relu(hidden)\n",
    "        # third layer\n",
    "        hidden = self.conv2(hidden, edge_index)\n",
    "        hidden = F.relu(hidden)\n",
    "\n",
    "        # global pooling\n",
    "        hidden = torch.cat([gmp(hidden, batch_index),\n",
    "                            gap(hidden, batch_index)], dim=1)\n",
    "\n",
    "        # apply linear layer\n",
    "        out = self.out(hidden)\n",
    "        return out\n",
    "\n",
    "# forth model\n",
    "embedding_size = 128\n",
    "class GCN_forth_model(torch.nn.Module):\n",
    "    def __init__(self):\n",
    "        torch.manual_seed(seed_value)\n",
    "        # Init parent\n",
    "        super(GCN_forth_model, self).__init__()\n",
    "\n",
    "        # define layer\n",
    "        self.initial_conv = GCNConv(data.num_features, embedding_size)\n",
    "        self.conv1 = GCNConv(embedding_size, embedding_size)\n",
    "        self.conv2 = GCNConv(embedding_size, embedding_size)\n",
    "        self.conv2 = GCNConv(embedding_size, embedding_size)\n",
    "    \n",
    "        # define linear layer\n",
    "        self.out = Linear(embedding_size*2, 1)\n",
    "\n",
    "    def init_weights(self):\n",
    "        # Use Xavier/Glorot initialization for GCNConv layers\n",
    "        for layer in [self.initial_conv, self.conv1, self.conv2]:\n",
    "            if isinstance(layer, GCNConv):\n",
    "                # layer.reset_parameters()\n",
    "                if isinstance(layer, GCNConv):\n",
    "                    init.normal_(layer.lin.weight)\n",
    "                    if layer.bias is not None:\n",
    "                        init.zeros_(layer.bias)\n",
    "\n",
    "        # Initialize weights for the Linear layer\n",
    "        init.xavier_normal_(self.out.weight)\n",
    "        if self.out.bias is not None:\n",
    "            init.zeros_(self.out.bias)\n",
    "\n",
    "    def forward(self, x, edge_index, batch_index):\n",
    "        \n",
    "        # first layer\n",
    "        hidden = self.initial_conv(x, edge_index)\n",
    "        hidden = F.relu(hidden)\n",
    "        # second layer\n",
    "        hidden = self.conv1(hidden, edge_index)\n",
    "        hidden = F.relu(hidden)\n",
    "        # third layer\n",
    "        hidden = self.conv2(hidden, edge_index)\n",
    "        hidden = F.relu(hidden)\n",
    "\n",
    "        # global pooling\n",
    "        hidden = torch.cat([gmp(hidden, batch_index),\n",
    "                            gap(hidden, batch_index)], dim=1)\n",
    "\n",
    "        # apply linear layer\n",
    "        out = self.out(hidden)\n",
    "        return out\n",
    "    \n",
    "\n",
    "class EarlyStopping:\n",
    "    def __init__(self, tolerance=5, min_delta=0):\n",
    "        self.tolerance = tolerance\n",
    "        self.min_delta = min_delta\n",
    "        self.counter = 0\n",
    "        self.early_stop = False\n",
    "        self.best_validation_loss = float('inf')\n",
    "\n",
    "    def __call__(self, train_loss, validation_loss):\n",
    "        if train_loss > (self.best_validation_loss - self.min_delta):\n",
    "            self.counter = 0\n",
    "            self.best_validation_loss = validation_loss\n",
    "\n",
    "        elif  self.best_validation_loss - self.min_delta > train_loss  :\n",
    "            self.best_validation_loss = validation_loss\n",
    "            self.counter += 1\n",
    "            print(f'case valid better case {self.counter}')\n",
    "            if self.counter >= self.tolerance:\n",
    "                self.early_stop = True\n",
    "\n",
    "        else : \n",
    "            print('something wrong')\n"
   ]
  },
  {
   "cell_type": "markdown",
   "metadata": {},
   "source": [
    "# Setup"
   ]
  },
  {
   "cell_type": "code",
   "execution_count": 11,
   "metadata": {},
   "outputs": [],
   "source": [
    "# setup dataset\n",
    "data_size = len(data)\n",
    "NUM_GRAPHS_PER_BATCH = 32\n",
    "training_set = DataLoader(data[:int(data_size * 0.7)],\n",
    "                    batch_size=NUM_GRAPHS_PER_BATCH, shuffle=True)\n",
    "test_set = DataLoader(data[int(data_size * 0.7):int(data_size * 0.85)],\n",
    "                         batch_size=NUM_GRAPHS_PER_BATCH, shuffle=True)\n",
    "validation_set = DataLoader(data[int(data_size * 0.85):],\n",
    "                         batch_size=NUM_GRAPHS_PER_BATCH, shuffle=True)\n",
    "\n"
   ]
  },
  {
   "cell_type": "code",
   "execution_count": 53,
   "metadata": {},
   "outputs": [],
   "source": [
    "# training function\n",
    "def train(model,optimizer,loss_fn,epochs:int=1000, is_early_stop:bool = True,show_result_at:int = 0):\n",
    "    earlystop = EarlyStopping(tolerance=7,min_delta=1)\n",
    "    train_losses_epoch = []\n",
    "    valid_losses_epoch = []\n",
    "    stop_at_epoch = epochs\n",
    "    for epoch in range(epochs):\n",
    "        model = model.to(device)\n",
    "        train_losses = []\n",
    "        valid_losses = []\n",
    "\n",
    "        #train step\n",
    "        for batch in training_set:\n",
    "            # Use GPU\n",
    "            batch.to(device)\n",
    "            # Reset gradients\n",
    "            optimizer.zero_grad()\n",
    "            # Passing the node features and the connection info\n",
    "            pred  = model(batch.x.float(), batch.edge_index, batch.batch)\n",
    "            # Calculating the loss and gradients\n",
    "            train_loss = loss_fn(pred, batch.y)\n",
    "            train_loss.backward()\n",
    "            float_train_loss = float(train_loss.detach().numpy().astype(float))\n",
    "            train_losses.append(float_train_loss)\n",
    "            # Update using the gradients\n",
    "            optimizer.step()\n",
    "        \n",
    "        #valid step\n",
    "        model.eval()\n",
    "        for batch in validation_set:\n",
    "            # Use GPU\n",
    "            batch.to(device)\n",
    "            # Passing the node features and the connection info\n",
    "            pred = model(batch.x.float(), batch.edge_index, batch.batch)\n",
    "            # Calculating the loss\n",
    "            valid_loss = loss_fn(pred, batch.y)\n",
    "            float_valid_loss = float(valid_loss.detach().numpy().astype(float))\n",
    "            valid_losses.append(float_valid_loss)\n",
    "        \n",
    "        #calculate average loss\n",
    "        average_train_loss = sum(train_losses)/len(train_losses)\n",
    "        average_valid_loss = sum(valid_losses)/len(valid_losses)\n",
    "        train_losses_epoch.append(average_train_loss)\n",
    "        valid_losses_epoch.append(average_valid_loss)\n",
    "        if (show_result_at != 0) and ((epoch+1)/show_result_at == 0 ): print(f\"at epoch : {epoch} train_loss = {average_train_loss}  valid_loss = {average_valid_loss}\")\n",
    "        if (is_early_stop):earlystop(train_loss=average_train_loss, validation_loss=average_valid_loss)\n",
    "        if earlystop.early_stop and is_early_stop:\n",
    "            stop_at_epoch = epoch+1\n",
    "            print(f'result at {epoch+1} is {earlystop.early_stop}')\n",
    "            break\n",
    "    # test_result = test(model,loss_fn=loss_fn)\n",
    "    return train_losses_epoch, valid_losses_epoch, stop_at_epoch\n",
    "\n",
    "def test(model,loss_fn):\n",
    "    test_loss_list = []\n",
    "    for batch in test_set:\n",
    "        batch.to(device)\n",
    "        # Passing the node features and the connection info\n",
    "        pred = model(batch.x.float(), batch.edge_index, batch.batch)\n",
    "        # Calculating the loss\n",
    "        test_loss = loss_fn(pred, batch.y)\n",
    "        float_test_loss = float(test_loss.detach().numpy().astype(float))\n",
    "        test_loss_list.append(float_test_loss)\n",
    "    average_train_loss = sum(test_loss_list)/len(test_loss_list)\n",
    "    return average_train_loss\n",
    "\n",
    "# def grid_search(model, loss_fn, epoch_list, embed_node_list, embed_classifire_layer):\n",
    "\n"
   ]
  },
  {
   "cell_type": "code",
   "execution_count": 54,
   "metadata": {},
   "outputs": [],
   "source": [
    "# setup \n",
    "loss_fn = torch.nn.MSELoss()\n",
    "\n",
    "#first model\n",
    "first_model = GCN_first_model()\n",
    "PATH_first_model_init = \"Save_weight/init_weight/first_model.pth\"\n",
    "# first_model.init_weights()\n",
    "# torch.save(first_model.state_dict(), PATH_first_model_init)\n",
    "first_model.load_state_dict(torch.load(PATH_first_model_init))\n",
    "optimizer_first = torch.optim.Adam(first_model.parameters(), lr=0.0007)\n",
    "\n",
    "#second model\n",
    "second_model = GCN_second_model()\n",
    "PATH_second_model_init = \"Save_weight/init_weight/second_model.pth\"\n",
    "# second_model.init_weights()\n",
    "# torch.save(second_model.state_dict(), PATH_second_model_init)\n",
    "second_model.load_state_dict(torch.load(PATH_second_model_init))\n",
    "optimizer_second = torch.optim.Adam(second_model.parameters(), lr=0.0007)\n",
    "\n",
    "#second model\n",
    "third_model = GCN_third_model()\n",
    "PATH_third_model_init = \"Save_weight/init_weight/third_model.pth\"\n",
    "# third_model.init_weights()\n",
    "# torch.save(third_model.state_dict(), PATH_third_model_init)\n",
    "third_model.load_state_dict(torch.load(PATH_third_model_init))\n",
    "optimizer_third = torch.optim.Adam(third_model.parameters(), lr=0.0007)"
   ]
  },
  {
   "cell_type": "code",
   "execution_count": null,
   "metadata": {},
   "outputs": [],
   "source": [
    "# first_model trainning\n",
    "first_model = GCN_first_model()\n",
    "first_model.load_state_dict(torch.load(PATH_first_model_init))\n",
    "optimizer_first = torch.optim.Adam(first_model.parameters(), lr=0.0007)\n",
    "loss_train_track_first, loss_valid_track_first, stop_at_epoch_first = train(model=first_model, optimizer=optimizer_first, loss_fn=loss_fn,epochs=5000,is_early_stop=False,show_result_at=100)"
   ]
  },
  {
   "cell_type": "code",
   "execution_count": 47,
   "metadata": {},
   "outputs": [
    {
     "data": {
      "text/plain": [
       "[253.21293131510416, 219.31498962402344, 146.00571568806967]"
      ]
     },
     "execution_count": 47,
     "metadata": {},
     "output_type": "execute_result"
    }
   ],
   "source": [
    "# second_model trainning\n",
    "second_model = GCN_second_model()\n",
    "second_model.load_state_dict(torch.load(PATH_second_model_init))\n",
    "optimizer_second = torch.optim.Adam(second_model.parameters(), lr=0.0007)\n",
    "loss_train_track_second, loss_valid_track_second, stop_at_epoch_second = train(model=second_model, optimizer=optimizer_second, loss_fn=loss_fn,epochs=5000,is_early_stop=False,show_result_at=100)"
   ]
  },
  {
   "cell_type": "code",
   "execution_count": null,
   "metadata": {},
   "outputs": [],
   "source": [
    "# thrid_model trainning\n",
    "third_model = GCN_third_model()\n",
    "third_model.load_state_dict(torch.load(PATH_third_model_init))\n",
    "optimizer_third = torch.optim.Adam(third_model.parameters(), lr=0.0007)\n",
    "loss_train_track_third, loss_valid_track_third, stop_at_epoch_third = train(model=third_model, optimizer=optimizer_third, loss_fn=loss_fn,epochs=5000,is_early_stop=False,show_result_at=100)"
   ]
  },
  {
   "cell_type": "code",
   "execution_count": 52,
   "metadata": {},
   "outputs": [
    {
     "name": "stdout",
     "output_type": "stream",
     "text": [
      "case valid better case 1\n",
      "case valid better case 2\n",
      "case valid better case 3\n",
      "case valid better case 1\n"
     ]
    },
    {
     "data": {
      "text/plain": [
       "[253.21293131510416, 219.31498962402344, 146.00571568806967]"
      ]
     },
     "execution_count": 52,
     "metadata": {},
     "output_type": "execute_result"
    }
   ],
   "source": [
    "# first_model = GCN_first_model()\n",
    "# first_model.load_state_dict(torch.load(PATH_first_model_init))\n",
    "# optimizer_first = torch.optim.Adam(first_model.parameters(), lr=0.0007)\n",
    "# _, _, _, list = train(model=first_model, optimizer=optimizer_first, loss_fn=loss_fn,epochs=10,is_early_stop=False)\n",
    "# list"
   ]
  },
  {
   "cell_type": "code",
   "execution_count": null,
   "metadata": {},
   "outputs": [],
   "source": [
    "list_2 = []\n",
    "first_model.init_weights()\n",
    "for name, param in first_model.named_parameters():\n",
    "    # print(f\"name : {name} param : {param} \")\n",
    "    list_2.append(param)"
   ]
  },
  {
   "cell_type": "code",
   "execution_count": 13,
   "metadata": {},
   "outputs": [
    {
     "name": "stdout",
     "output_type": "stream",
     "text": [
      "case valid better case 1\n"
     ]
    },
    {
     "data": {
      "text/plain": [
       "[1.5006280740102131, 1.0781973338127135, 1.8141082723935444]"
      ]
     },
     "execution_count": 13,
     "metadata": {},
     "output_type": "execute_result"
    }
   ],
   "source": [
    "first_model.init_weights()\n",
    "optimizer_first = torch.optim.Adam(first_model.parameters(), lr=0.0007)\n",
    "_,_,_,list = train(model=first_model, optimizer=optimizer_first, loss_fn=loss_fn,epochs=100,is_early_stop=False)\n",
    "list"
   ]
  },
  {
   "cell_type": "code",
   "execution_count": 14,
   "metadata": {},
   "outputs": [
    {
     "name": "stdout",
     "output_type": "stream",
     "text": [
      "case valid better case 1\n"
     ]
    },
    {
     "data": {
      "text/plain": [
       "[3.0168838103612265, 3.218268640041351, 3.2252490123113]"
      ]
     },
     "execution_count": 14,
     "metadata": {},
     "output_type": "execute_result"
    }
   ],
   "source": [
    "first_model.init_weights()\n",
    "optimizer_first = torch.optim.Adam(first_model.parameters(), lr=0.0007)\n",
    "_,_,_,list = train(model=first_model, optimizer=optimizer_first, loss_fn=loss_fn,epochs=10,is_early_stop=False)\n",
    "list"
   ]
  },
  {
   "cell_type": "code",
   "execution_count": 62,
   "metadata": {},
   "outputs": [
    {
     "data": {
      "text/plain": [
       "<bound method Module.parameters of GCN_first_model(\n",
       "  (initial_conv): GCNConv(9, 128)\n",
       "  (conv1): GCNConv(128, 128)\n",
       "  (conv2): GCNConv(128, 128)\n",
       "  (out): Linear(in_features=256, out_features=1, bias=True)\n",
       ")>"
      ]
     },
     "execution_count": 62,
     "metadata": {},
     "output_type": "execute_result"
    }
   ],
   "source": [
    "first_model.parameters"
   ]
  },
  {
   "cell_type": "code",
   "execution_count": 42,
   "metadata": {},
   "outputs": [
    {
     "name": "stdout",
     "output_type": "stream",
     "text": [
      "case valid better case 1\n"
     ]
    },
    {
     "data": {
      "text/plain": [
       "[2.3387096722920737, 2.628441820144653, 2.4764813979466758]"
      ]
     },
     "execution_count": 42,
     "metadata": {},
     "output_type": "execute_result"
    }
   ],
   "source": [
    "_,_,_,list = train(model=first_model, optimizer=optimizer_first, loss_fn=loss_fn,epochs=10,is_early_stop=False)\n",
    "list"
   ]
  },
  {
   "cell_type": "code",
   "execution_count": null,
   "metadata": {},
   "outputs": [],
   "source": [
    "train_losses, valid_losses, stop_at_epoch, test_result = train(model=first_model,optimizer=optimizer_first,loss_fn=loss_fn,is_early_stop=False)"
   ]
  },
  {
   "cell_type": "code",
   "execution_count": 59,
   "metadata": {},
   "outputs": [
    {
     "data": {
      "text/plain": [
       "0.7804011205832163"
      ]
     },
     "execution_count": 59,
     "metadata": {},
     "output_type": "execute_result"
    }
   ],
   "source": [
    "test_result"
   ]
  },
  {
   "cell_type": "code",
   "execution_count": 53,
   "metadata": {},
   "outputs": [],
   "source": [
    "# train_lossed_list = [float(i.detach().numpy().astype(float)) for i in train_losses]\n",
    "# valid_lossed_list = [float(i.detach().numpy().astype(float)) for i in valid_losses]"
   ]
  },
  {
   "cell_type": "code",
   "execution_count": 66,
   "metadata": {},
   "outputs": [
    {
     "data": {
      "text/plain": [
       "13.481454849243164"
      ]
     },
     "execution_count": 66,
     "metadata": {},
     "output_type": "execute_result"
    }
   ],
   "source": [
    "float(train_losses)"
   ]
  },
  {
   "cell_type": "code",
   "execution_count": 11,
   "metadata": {},
   "outputs": [
    {
     "data": {
      "image/png": "[encoded data removed]",
      "text/plain": [
       "<Figure size 640x480 with 1 Axes>"
      ]
     },
     "metadata": {},
     "output_type": "display_data"
    },
    {
     "data": {
      "image/png": "[encoded data removed]",
      "text/plain": [
       "<Figure size 640x480 with 1 Axes>"
      ]
     },
     "metadata": {},
     "output_type": "display_data"
    },
    {
     "data": {
      "text/plain": [
       "7"
      ]
     },
     "execution_count": 11,
     "metadata": {},
     "output_type": "execute_result"
    }
   ],
   "source": [
    "plt.figure()\n",
    "plt.plot(train_losses)\n",
    "plt.show()\n",
    "plt.figure()\n",
    "plt.plot(valid_losses)\n",
    "plt.show()\n",
    "stop_at_epoch\n"
   ]
  },
  {
   "cell_type": "code",
   "execution_count": 40,
   "metadata": {},
   "outputs": [
    {
     "name": "stdout",
     "output_type": "stream",
     "text": [
      "Starting training...\n",
      "Epoch 0 | Train Loss 4.54939603805542\n",
      "Epoch 100 | Train Loss 1.5579652786254883\n",
      "Epoch 200 | Train Loss 2.6277196407318115\n",
      "Epoch 300 | Train Loss 0.37277689576148987\n",
      "Epoch 400 | Train Loss 0.47624853253364563\n",
      "Epoch 500 | Train Loss 0.7442011833190918\n",
      "Epoch 600 | Train Loss 0.5013490319252014\n",
      "Epoch 700 | Train Loss 0.3040367066860199\n",
      "Epoch 800 | Train Loss 0.1414112150669098\n",
      "Epoch 900 | Train Loss 0.5435447096824646\n"
     ]
    }
   ],
   "source": [
    "# # Root mean squared error\n",
    "# loss_fn = torch.nn.MSELoss()\n",
    "# optimizer = torch.optim.Adam(model.parameters(), lr=0.0007)\n",
    "\n",
    "# # Use GPU for training\n",
    "# device = torch.device(\"cuda:0\" if torch.cuda.is_available() else \"cpu\")\n",
    "# model = model.to(device)\n",
    "\n",
    "# # Wrap data in a data loader\n",
    "# data_size = len(data)\n",
    "# NUM_GRAPHS_PER_BATCH = 32\n",
    "# loader = DataLoader(data[:int(data_size * 0.8)],\n",
    "#                     batch_size=NUM_GRAPHS_PER_BATCH, shuffle=True)\n",
    "# test_loader = DataLoader(data[int(data_size * 0.8):],\n",
    "#                          batch_size=NUM_GRAPHS_PER_BATCH, shuffle=True)\n",
    "\n",
    "# def train(data):\n",
    "#     # Enumerate over the data\n",
    "#     for batch in loader:\n",
    "#       # Use GPU\n",
    "#       batch.to(device)\n",
    "#       # Reset gradients\n",
    "#       optimizer.zero_grad()\n",
    "#       # Passing the node features and the connection info\n",
    "#       pred, embedding = model(batch.x.float(), batch.edge_index, batch.batch)\n",
    "#       # Calculating the loss and gradients\n",
    "#       loss = loss_fn(pred, batch.y)\n",
    "#       loss.backward()\n",
    "#       # Update using the gradients\n",
    "#       optimizer.step()\n",
    "#     return loss, embedding\n",
    "\n",
    "# print(\"Starting training...\")\n",
    "# losses = []\n",
    "# for epoch in range(1000):\n",
    "#     loss, h = train(data)\n",
    "#     losses.append(loss)\n",
    "#     if epoch % 100 == 0:\n",
    "#       print(f\"Epoch {epoch} | Train Loss {loss} \")"
   ]
  },
  {
   "cell_type": "code",
   "execution_count": 56,
   "metadata": {},
   "outputs": [
    {
     "data": {
      "text/plain": [
       "Parameter containing:\n",
       "tensor([[-0.2163,  0.3716, -0.3634, -0.0903, -0.1168, -0.1323, -0.3531,  0.1559,\n",
       "          0.1392, -0.3554, -0.2455, -0.3763, -0.3087, -0.2272,  0.0542,  0.1501,\n",
       "          0.1481,  0.3839, -0.2121, -0.3209,  0.0911,  0.3769, -0.2624, -0.1133,\n",
       "         -0.0098,  0.3249,  0.2947, -0.2368,  0.3414, -0.3013, -0.3402, -0.0492],\n",
       "        [-0.1231, -0.1866,  0.0688, -0.3938, -0.0099,  0.3559, -0.0030,  0.0825,\n",
       "          0.2652,  0.3720,  0.1544, -0.0672, -0.1796,  0.2722, -0.1045,  0.1865,\n",
       "         -0.0310,  0.3409, -0.0856,  0.1352,  0.0005,  0.2392, -0.3322,  0.3229,\n",
       "         -0.2801,  0.3161,  0.0925, -0.1436,  0.2787, -0.1840,  0.2880, -0.3976],\n",
       "        [ 0.2899, -0.3620, -0.1849,  0.1175,  0.1006, -0.2950, -0.3980,  0.1271,\n",
       "         -0.2695, -0.3894,  0.3320,  0.1711,  0.0165, -0.3711, -0.1319,  0.1900,\n",
       "         -0.0454,  0.2874,  0.2556, -0.2383,  0.4016, -0.3495,  0.3401, -0.0136,\n",
       "         -0.3479,  0.1466,  0.0649,  0.1146, -0.0665,  0.1301, -0.0437, -0.4033],\n",
       "        [ 0.1062,  0.3645,  0.0922, -0.0612, -0.2743, -0.2439, -0.1947, -0.1202,\n",
       "          0.2495, -0.3905,  0.0593,  0.3249,  0.1861, -0.2737,  0.0460, -0.1585,\n",
       "         -0.1846, -0.1481, -0.2130, -0.0142,  0.0163, -0.1313, -0.1526, -0.2707,\n",
       "         -0.0531, -0.2097,  0.0340, -0.3907, -0.2256,  0.1355,  0.0542, -0.0747]],\n",
       "       requires_grad=True)"
      ]
     },
     "execution_count": 56,
     "metadata": {},
     "output_type": "execute_result"
    }
   ],
   "source": [
    "model = Linear(32,2)\n",
    "model.weight\n",
    "gcn= GCNConv(32,4)\n",
    "gcn.lin.weight"
   ]
  },
  {
   "cell_type": "code",
   "execution_count": 51,
   "metadata": {},
   "outputs": [],
   "source": [
    "# import pandas as pd\n",
    "\n",
    "# # Analyze the results for one batch\n",
    "# test_batch = next(iter(test_loader))\n",
    "# with torch.no_grad():\n",
    "#     test_batch.to(device)\n",
    "#     pred, embed = model(test_batch.x.float(), test_batch.edge_index, test_batch.batch)\n",
    "#     df = pd.DataFrame()\n",
    "#     df[\"y_real\"] = test_batch.y.tolist()\n",
    "#     df[\"y_pred\"] = pred.tolist()\n",
    "# df[\"y_real\"] = df[\"y_real\"].apply(lambda row: row[0])\n",
    "# df[\"y_pred\"] = df[\"y_pred\"].apply(lambda row: row[0])\n",
    "# df"
   ]
  },
  {
   "cell_type": "code",
   "execution_count": 47,
   "metadata": {},
   "outputs": [
    {
     "data": {
      "text/plain": [
       "[(-7.0, 2.0)]"
      ]
     },
     "execution_count": 47,
     "metadata": {},
     "output_type": "execute_result"
    },
    {
     "data": {
      "image/png": "[encoded data removed]",
      "text/plain": [
       "<Figure size 640x480 with 1 Axes>"
      ]
     },
     "metadata": {},
     "output_type": "display_data"
    }
   ],
   "source": [
    "# plt = sb.scatterplot(data=df, x=\"y_real\", y=\"y_pred\")\n",
    "# plt.set(xlim=(-7, 2))\n",
    "# plt.set(ylim=(-7, 2))\n"
   ]
  },
  {
   "cell_type": "code",
   "execution_count": 53,
   "metadata": {},
   "outputs": [
    {
     "data": {
      "text/plain": [
       "0.8329761435263996"
      ]
     },
     "execution_count": 53,
     "metadata": {},
     "output_type": "execute_result"
    }
   ],
   "source": [
    "# sklearn.metrics.mean_squared_error(df['y_real'], df['y_pred'])"
   ]
  }
 ],
 "metadata": {
  "kernelspec": {
   "display_name": "Python 3",
   "language": "python",
   "name": "python3"
  },
  "language_info": {
   "codemirror_mode": {
    "name": "ipython",
    "version": 3
   },
   "file_extension": ".py",
   "mimetype": "text/x-python",
   "name": "python",
   "nbconvert_exporter": "python",
   "pygments_lexer": "ipython3",
   "version": "3.9.11"
  }
 },
 "nbformat": 4,
 "nbformat_minor": 2
}
