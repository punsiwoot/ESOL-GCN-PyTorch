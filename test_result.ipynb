{
 "cells": [
  {
   "cell_type": "code",
   "execution_count": 25,
   "metadata": {},
   "outputs": [],
   "source": [
    "#import estential tool\n",
    "import rdkit\n",
    "from rdkit import Chem\n",
    "from rdkit.Chem.Draw import IPythonConsole\n",
    "import torch_geometric\n",
    "from torch_geometric.datasets import MoleculeNet\n",
    "from torch_geometric.data import Data\n",
    "import networkx as nx\n",
    "import seaborn as sb\n",
    "import sklearn\n",
    "from sklearn.metrics import mean_squared_error\n",
    "\n",
    "#for trainning\n",
    "from torch_geometric.data import DataLoader\n",
    "import warnings\n",
    "warnings.filterwarnings(\"ignore\")\n",
    "import torch\n",
    "from torch.nn import Linear\n",
    "from torch.nn import init\n",
    "import torch.nn.functional as F\n",
    "from torch_geometric.nn import GCNConv, TopKPooling, global_mean_pool\n",
    "from torch_geometric.nn import global_mean_pool as gap, global_max_pool as gmp\n",
    "import matplotlib.pyplot as plt\n",
    "import numpy as np\n",
    "import pandas as pd\n",
    "from utill import *\n",
    "from Model.BASE_model import *\n",
    "from Model.Less_layer_model import *\n",
    "from Model.More_layer_model import *\n",
    "from Model.BASE_model_tanh import *\n",
    "from Model.Less_layer_model_tanh import *\n",
    "from Model.More_layer_model_tanh import *\n",
    "from Model.BASE_model_tanh_pyra import *\n",
    "from Model.Less_layer_model_tanh_pyra import *\n",
    "from Model.More_layer_model_tanh_pyra import *\n",
    "from Model.BASE_model_pyra import *\n",
    "from Model.Less_layer_model_pyra import *\n",
    "from Model.More_layer_model_pyra import *\n",
    "device = torch.device(\"cuda:0\" if torch.cuda.is_available() else \"cpu\")\n",
    "\n",
    "seed_value = 42\n",
    "torch.manual_seed(seed_value)\n",
    "np.random.seed(seed_value)\n",
    "\n",
    "# Download dataset\n",
    "data = MoleculeNet(root=\".\", name=\"ESOL\")"
   ]
  },
  {
   "cell_type": "code",
   "execution_count": 26,
   "metadata": {},
   "outputs": [],
   "source": [
    "# setup dataset\n",
    "data_size = len(data)\n",
    "NUM_GRAPHS_PER_BATCH = 32\n",
    "training_set = DataLoader(data[:int(data_size * 0.7)],\n",
    "                    batch_size=NUM_GRAPHS_PER_BATCH, shuffle=False)\n",
    "test_set = DataLoader(data[int(data_size * 0.7):int(data_size * 0.85)],\n",
    "                         batch_size=NUM_GRAPHS_PER_BATCH, shuffle=False)\n",
    "validation_set = DataLoader(data[int(data_size * 0.85):],\n",
    "                         batch_size=NUM_GRAPHS_PER_BATCH, shuffle=False)\n",
    "\n"
   ]
  },
  {
   "cell_type": "code",
   "execution_count": 27,
   "metadata": {},
   "outputs": [
    {
     "data": {
      "text/plain": [
       "<All keys matched successfully>"
      ]
     },
     "execution_count": 27,
     "metadata": {},
     "output_type": "execute_result"
    }
   ],
   "source": [
    "#first_section model\n",
    "# setup\n",
    "loss_fn = torch.nn.MSELoss()\n",
    "#first model\n",
    "first_model = GCN_BASE_model(data_num_features=data.num_features, embedding_size=32)\n",
    "PATH_first_model_init = \"Save_weight/weight/first_model/first_model_best.pth\"\n",
    "first_model.load_state_dict(torch.load(PATH_first_model_init, map_location=torch.device('cpu')))\n",
    "\n",
    "#second model\n",
    "second_model = GCN_BASE_model(data_num_features=data.num_features, embedding_size=64)\n",
    "PATH_second_model_init = \"Save_weight/weight/second_model/second_model_best.pth\"\n",
    "second_model.load_state_dict(torch.load(PATH_second_model_init, map_location=torch.device('cpu')))\n",
    "\n",
    "\n",
    "#third model\n",
    "third_model = GCN_BASE_model(data_num_features=data.num_features, embedding_size=128)\n",
    "PATH_third_model_init = \"Save_weight/weight/third_model/third_model_best.pth\"\n",
    "third_model.load_state_dict(torch.load(PATH_third_model_init, map_location=torch.device('cpu')))\n",
    "\n",
    "#forth model\n",
    "forth_model = GCN_More_layer_model(data_num_features=data.num_features, embedding_size=32)\n",
    "PATH_forth_model_init = \"Save_weight/weight/forth_model/forth_model_best.pth\"\n",
    "forth_model.load_state_dict(torch.load(PATH_forth_model_init, map_location=torch.device('cpu')))\n",
    "\n",
    "#fifth model\n",
    "fifth_model = GCN_More_layer_model(data_num_features=data.num_features, embedding_size=64)\n",
    "PATH_fifth_model_init = \"Save_weight/weight/fifth_model/fifth_model_best.pth\"\n",
    "fifth_model.load_state_dict(torch.load(PATH_fifth_model_init, map_location=torch.device('cpu')))\n",
    "\n",
    "#sixth model\n",
    "sixth_model = GCN_More_layer_model(data_num_features=data.num_features, embedding_size=128)\n",
    "PATH_sixth_model_init = \"Save_weight/weight/sixth_model/sixth_model_best.pth\"\n",
    "sixth_model.load_state_dict(torch.load(PATH_sixth_model_init, map_location=torch.device('cpu')))\n",
    "\n",
    "#seventh model\n",
    "seventh_model = GCN_Less_layer_model(data_num_features=data.num_features, embedding_size=32)\n",
    "PATH_seventh_model_init = \"Save_weight/weight/seventh_model/seventh_model_best.pth\"\n",
    "seventh_model.load_state_dict(torch.load(PATH_seventh_model_init, map_location=torch.device('cpu')))\n",
    "\n",
    "#eighth model\n",
    "eighth_model = GCN_Less_layer_model(data_num_features=data.num_features, embedding_size=64)\n",
    "PATH_eighth_model_init = \"Save_weight/weight/eighth_model/eighth_model_best.pth\"\n",
    "eighth_model.load_state_dict(torch.load(PATH_eighth_model_init, map_location=torch.device('cpu')))\n",
    "\n",
    "#ninth model\n",
    "ninth_model = GCN_Less_layer_model(data_num_features=data.num_features, embedding_size=128)\n",
    "PATH_ninth_model_init = \"Save_weight/weight/ninth_model/ninth_model_best.pth\"\n",
    "ninth_model.load_state_dict(torch.load(PATH_ninth_model_init, map_location=torch.device('cpu')))\n"
   ]
  },
  {
   "cell_type": "code",
   "execution_count": 28,
   "metadata": {},
   "outputs": [
    {
     "name": "stdout",
     "output_type": "stream",
     "text": [
      "test_loss : 0.41573771119117736\n",
      "test_loss : 0.2607384586334229\n",
      "test_loss : 0.07649831414222717\n",
      "test_loss : 0.3272995328903198\n",
      "test_loss : 0.2033049237728119\n",
      "test_loss : 0.23798042207956313\n",
      "test_loss : 0.42111167430877683\n",
      "test_loss : 0.17470550179481506\n",
      "test_loss : 0.13717215701937677\n"
     ]
    }
   ],
   "source": [
    "result = test(model=first_model,test_set=training_set,loss_fn=loss_fn, device=torch.device('cpu'))\n",
    "print(f'test_loss : {result}')\n",
    "result = test(model=second_model,test_set=training_set,loss_fn=loss_fn, device=torch.device('cpu'))\n",
    "print(f'test_loss : {result}')\n",
    "result = test(model=third_model,test_set=training_set,loss_fn=loss_fn, device=torch.device('cpu'))\n",
    "print(f'test_loss : {result}')\n",
    "result = test(model=forth_model,test_set=training_set,loss_fn=loss_fn, device=torch.device('cpu'))\n",
    "print(f'test_loss : {result}')\n",
    "result = test(model=fifth_model,test_set=training_set,loss_fn=loss_fn, device=torch.device('cpu'))\n",
    "print(f'test_loss : {result}')\n",
    "result = test(model=sixth_model,test_set=training_set,loss_fn=loss_fn, device=torch.device('cpu'))\n",
    "print(f'test_loss : {result}')\n",
    "result = test(model=seventh_model,test_set=training_set,loss_fn=loss_fn, device=torch.device('cpu'))\n",
    "print(f'test_loss : {result}')\n",
    "result = test(model=eighth_model,test_set=training_set,loss_fn=loss_fn, device=torch.device('cpu'))\n",
    "print(f'test_loss : {result}')\n",
    "result = test(model=ninth_model,test_set=training_set,loss_fn=loss_fn, device=torch.device('cpu'))\n",
    "print(f'test_loss : {result}')"
   ]
  },
  {
   "cell_type": "code",
   "execution_count": 29,
   "metadata": {},
   "outputs": [
    {
     "data": {
      "text/plain": [
       "<All keys matched successfully>"
      ]
     },
     "execution_count": 29,
     "metadata": {},
     "output_type": "execute_result"
    }
   ],
   "source": [
    "#second_part_model\n",
    "#second set\n",
    "#first model\n",
    "m11 = GCN_BASE_model_tanh(data_num_features=data.num_features, embedding_size=32)\n",
    "PATH_m11_init = \"Save_weight/weight/m11/m11_best.pth\"\n",
    "m11.load_state_dict(torch.load(PATH_m11_init, map_location=torch.device('cpu')))\n",
    "\n",
    "#second model\n",
    "m12 = GCN_BASE_model_tanh(data_num_features=data.num_features, embedding_size=64)\n",
    "PATH_m12_init = \"Save_weight/weight/m12/m12_best.pth\"\n",
    "m12.load_state_dict(torch.load(PATH_m12_init, map_location=torch.device('cpu')))\n",
    "\n",
    "#third model\n",
    "m13 = GCN_BASE_model_tanh(data_num_features=data.num_features, embedding_size=128)\n",
    "PATH_m13_init = \"Save_weight/weight/m13/m13_best.pth\"\n",
    "m13.load_state_dict(torch.load(PATH_m13_init, map_location=torch.device('cpu')))\n",
    "\n",
    "#forth model\n",
    "m14 = GCN_More_layer_model_tanh(data_num_features=data.num_features, embedding_size=32)\n",
    "PATH_m14_init = \"Save_weight/weight/m14/m14_best.pth\"\n",
    "m14.load_state_dict(torch.load(PATH_m14_init, map_location=torch.device('cpu')))\n",
    "\n",
    "#fifth model\n",
    "m15 = GCN_More_layer_model_tanh(data_num_features=data.num_features, embedding_size=64)\n",
    "PATH_m15_init = \"Save_weight/weight/m15/m15_best.pth\"\n",
    "m15.load_state_dict(torch.load(PATH_m15_init, map_location=torch.device('cpu')))\n",
    "\n",
    "#sixth model\n",
    "m16 = GCN_More_layer_model_tanh(data_num_features=data.num_features, embedding_size=128)\n",
    "PATH_m16_init = \"Save_weight/weight/m16/m16_best.pth\"\n",
    "m16.load_state_dict(torch.load(PATH_m16_init, map_location=torch.device('cpu')))\n",
    "\n",
    "#seventh model\n",
    "m17 = GCN_Less_layer_model_tanh(data_num_features=data.num_features, embedding_size=32)\n",
    "PATH_m17_init = \"Save_weight/weight/m17/m17_best.pth\"\n",
    "m17.load_state_dict(torch.load(PATH_m17_init, map_location=torch.device('cpu')))\n",
    "\n",
    "#eighth model\n",
    "m18 = GCN_Less_layer_model_tanh(data_num_features=data.num_features, embedding_size=64)\n",
    "PATH_m18_init = \"Save_weight/weight/m18/m18_best.pth\"\n",
    "m18.load_state_dict(torch.load(PATH_m18_init, map_location=torch.device('cpu')))\n",
    "\n",
    "#ninth model\n",
    "m19 = GCN_Less_layer_model_tanh(data_num_features=data.num_features, embedding_size=128)\n",
    "PATH_m19_init = \"Save_weight/weight/m19/m19_best.pth\"\n",
    "m19.load_state_dict(torch.load(PATH_m19_init, map_location=torch.device('cpu')))\n"
   ]
  },
  {
   "cell_type": "code",
   "execution_count": 30,
   "metadata": {},
   "outputs": [
    {
     "name": "stdout",
     "output_type": "stream",
     "text": [
      "test_loss : 0.3198555469512939\n",
      "test_loss : 0.1086026656627655\n",
      "test_loss : 0.03975257284939289\n",
      "test_loss : 0.2861196333169937\n",
      "test_loss : 0.054368258491158485\n",
      "test_loss : 0.1061189267039299\n",
      "test_loss : 0.1463911035656929\n",
      "test_loss : 0.28993997007608413\n",
      "test_loss : 0.3729477387666702\n"
     ]
    }
   ],
   "source": [
    "result = test(model=m11,test_set=training_set,loss_fn=loss_fn, device=torch.device('cpu'))\n",
    "print(f'test_loss : {result}')\n",
    "result = test(model=m12,test_set=training_set,loss_fn=loss_fn, device=torch.device('cpu'))\n",
    "print(f'test_loss : {result}')\n",
    "result = test(model=m13,test_set=training_set,loss_fn=loss_fn, device=torch.device('cpu'))\n",
    "print(f'test_loss : {result}')\n",
    "result = test(model=m14,test_set=training_set,loss_fn=loss_fn, device=torch.device('cpu'))\n",
    "print(f'test_loss : {result}')\n",
    "result = test(model=m15,test_set=training_set,loss_fn=loss_fn, device=torch.device('cpu'))\n",
    "print(f'test_loss : {result}')\n",
    "result = test(model=m16,test_set=training_set,loss_fn=loss_fn, device=torch.device('cpu'))\n",
    "print(f'test_loss : {result}')\n",
    "result = test(model=m17,test_set=training_set,loss_fn=loss_fn, device=torch.device('cpu'))\n",
    "print(f'test_loss : {result}')\n",
    "result = test(model=m18,test_set=training_set,loss_fn=loss_fn, device=torch.device('cpu'))\n",
    "print(f'test_loss : {result}')\n",
    "result = test(model=m19,test_set=training_set,loss_fn=loss_fn, device=torch.device('cpu'))\n",
    "print(f'test_loss : {result}')"
   ]
  },
  {
   "cell_type": "code",
   "execution_count": 31,
   "metadata": {},
   "outputs": [
    {
     "data": {
      "text/plain": [
       "<All keys matched successfully>"
      ]
     },
     "execution_count": 31,
     "metadata": {},
     "output_type": "execute_result"
    }
   ],
   "source": [
    "#third set\n",
    "#first model\n",
    "m21 = GCN_BASE_model_pyra(data_num_features=data.num_features, embedding_size=32)\n",
    "PATH_m21_init = \"Save_weight/weight/m21/m21_best.pth\"\n",
    "m21.load_state_dict(torch.load(PATH_m21_init, map_location=torch.device('cpu')))\n",
    "\n",
    "#second model\n",
    "m22 = GCN_BASE_model_pyra(data_num_features=data.num_features, embedding_size=64)\n",
    "PATH_m22_init = \"Save_weight/weight/m22/m22_best.pth\"\n",
    "m22.load_state_dict(torch.load(PATH_m22_init, map_location=torch.device('cpu')))\n",
    "\n",
    "#third model\n",
    "m23 = GCN_BASE_model_pyra(data_num_features=data.num_features, embedding_size=128)\n",
    "PATH_m23_init = \"Save_weight/weight/m23/m23_best.pth\"\n",
    "m23.load_state_dict(torch.load(PATH_m23_init, map_location=torch.device('cpu')))\n",
    "\n",
    "#forth model\n",
    "m24 = GCN_More_layer_model_pyra(data_num_features=data.num_features, embedding_size=32)\n",
    "PATH_m24_init = \"Save_weight/weight/m24/m24_best.pth\"\n",
    "m24.load_state_dict(torch.load(PATH_m24_init, map_location=torch.device('cpu')))\n",
    "\n",
    "#fifth model\n",
    "m25 = GCN_More_layer_model_pyra(data_num_features=data.num_features, embedding_size=64)\n",
    "PATH_m25_init = \"Save_weight/weight/m25/m25_best.pth\"\n",
    "m25.load_state_dict(torch.load(PATH_m25_init, map_location=torch.device('cpu')))\n",
    "\n",
    "#sixth model\n",
    "m26 = GCN_More_layer_model_pyra(data_num_features=data.num_features, embedding_size=128)\n",
    "PATH_m26_init = \"Save_weight/weight/m26/m26_best.pth\"\n",
    "m26.load_state_dict(torch.load(PATH_m26_init, map_location=torch.device('cpu')))\n",
    "\n",
    "#seventh model\n",
    "m27 = GCN_Less_layer_model_pyra(data_num_features=data.num_features, embedding_size=32)\n",
    "PATH_m27_init = \"Save_weight/weight/m27/m27_best.pth\"\n",
    "m27.load_state_dict(torch.load(PATH_m27_init, map_location=torch.device('cpu')))\n",
    "\n",
    "#eighth model\n",
    "m28 = GCN_Less_layer_model_pyra(data_num_features=data.num_features, embedding_size=64)\n",
    "PATH_m28_init = \"Save_weight/weight/m28/m28_best.pth\"\n",
    "m28.load_state_dict(torch.load(PATH_m28_init, map_location=torch.device('cpu')))\n",
    "\n",
    "#ninth model\n",
    "m29 = GCN_Less_layer_model_pyra(data_num_features=data.num_features, embedding_size=128)\n",
    "PATH_m29_init = \"Save_weight/weight/m29/m29_best.pth\"\n",
    "m29.load_state_dict(torch.load(PATH_m29_init, map_location=torch.device('cpu')))\n"
   ]
  },
  {
   "cell_type": "code",
   "execution_count": 32,
   "metadata": {},
   "outputs": [
    {
     "name": "stdout",
     "output_type": "stream",
     "text": [
      "test_loss : 0.6390692341327667\n",
      "test_loss : 0.5174917876720428\n",
      "test_loss : 0.2837776866555214\n",
      "test_loss : 0.83490558385849\n",
      "test_loss : 0.5312713325023651\n",
      "test_loss : 0.28082154035568235\n",
      "test_loss : 0.4884413230419159\n",
      "test_loss : 0.3518741923570633\n",
      "test_loss : 0.3096232235431671\n"
     ]
    }
   ],
   "source": [
    "result = test(model=m21,test_set=training_set,loss_fn=loss_fn, device=torch.device('cpu'))\n",
    "print(f'test_loss : {result}')\n",
    "result = test(model=m22,test_set=training_set,loss_fn=loss_fn, device=torch.device('cpu'))\n",
    "print(f'test_loss : {result}')\n",
    "result = test(model=m23,test_set=training_set,loss_fn=loss_fn, device=torch.device('cpu'))\n",
    "print(f'test_loss : {result}')\n",
    "result = test(model=m24,test_set=training_set,loss_fn=loss_fn, device=torch.device('cpu'))\n",
    "print(f'test_loss : {result}')\n",
    "result = test(model=m25,test_set=training_set,loss_fn=loss_fn, device=torch.device('cpu'))\n",
    "print(f'test_loss : {result}')\n",
    "result = test(model=m26,test_set=training_set,loss_fn=loss_fn, device=torch.device('cpu'))\n",
    "print(f'test_loss : {result}')\n",
    "result = test(model=m27,test_set=training_set,loss_fn=loss_fn, device=torch.device('cpu'))\n",
    "print(f'test_loss : {result}')\n",
    "result = test(model=m28,test_set=training_set,loss_fn=loss_fn, device=torch.device('cpu'))\n",
    "print(f'test_loss : {result}')\n",
    "result = test(model=m29,test_set=training_set,loss_fn=loss_fn, device=torch.device('cpu'))\n",
    "print(f'test_loss : {result}')"
   ]
  },
  {
   "cell_type": "code",
   "execution_count": 33,
   "metadata": {},
   "outputs": [
    {
     "data": {
      "text/plain": [
       "<All keys matched successfully>"
      ]
     },
     "execution_count": 33,
     "metadata": {},
     "output_type": "execute_result"
    }
   ],
   "source": [
    "#forth set\n",
    "#first model\n",
    "m31 = GCN_BASE_model_tanh_pyra(data_num_features=data.num_features, embedding_size=32)\n",
    "PATH_m31_init = \"Save_weight/weight/m31/m31_best.pth\"\n",
    "m31.load_state_dict(torch.load(PATH_m31_init, map_location=torch.device('cpu')))\n",
    "\n",
    "#second model\n",
    "m32 = GCN_BASE_model_tanh_pyra(data_num_features=data.num_features, embedding_size=64)\n",
    "PATH_m32_init = \"Save_weight/weight/m32/m32_best.pth\"\n",
    "m32.load_state_dict(torch.load(PATH_m32_init, map_location=torch.device('cpu')))\n",
    "\n",
    "#third model\n",
    "m33 = GCN_BASE_model_tanh_pyra(data_num_features=data.num_features, embedding_size=128)\n",
    "PATH_m33_init = \"Save_weight/weight/m33/m33_best.pth\"\n",
    "m33.load_state_dict(torch.load(PATH_m33_init, map_location=torch.device('cpu')))\n",
    "\n",
    "#forth model\n",
    "m34 = GCN_More_layer_model_tanh_pyra(data_num_features=data.num_features, embedding_size=32)\n",
    "PATH_m34_init = \"Save_weight/weight/m34/m34_best.pth\"\n",
    "m34.load_state_dict(torch.load(PATH_m34_init, map_location=torch.device('cpu')))\n",
    "\n",
    "#fifth model\n",
    "m35 = GCN_More_layer_model_tanh_pyra(data_num_features=data.num_features, embedding_size=64)\n",
    "PATH_m35_init = \"Save_weight/weight/m35/m35_best.pth\"\n",
    "m35.load_state_dict(torch.load(PATH_m35_init, map_location=torch.device('cpu')))\n",
    "\n",
    "#sixth model\n",
    "m36 = GCN_More_layer_model_tanh_pyra(data_num_features=data.num_features, embedding_size=128)\n",
    "PATH_m36_init = \"Save_weight/weight/m36/m36_best.pth\"\n",
    "m36.load_state_dict(torch.load(PATH_m36_init, map_location=torch.device('cpu')))\n",
    "\n",
    "#seventh model\n",
    "m37 = GCN_Less_layer_model_tanh_pyra(data_num_features=data.num_features, embedding_size=32)\n",
    "PATH_m37_init = \"Save_weight/weight/m37/m37_best.pth\"\n",
    "m37.load_state_dict(torch.load(PATH_m37_init, map_location=torch.device('cpu')))\n",
    "\n",
    "#eighth model\n",
    "m38 = GCN_Less_layer_model_tanh_pyra(data_num_features=data.num_features, embedding_size=64)\n",
    "PATH_m38_init = \"Save_weight/weight/m38/m38_best.pth\"\n",
    "m38.load_state_dict(torch.load(PATH_m38_init, map_location=torch.device('cpu')))\n",
    "\n",
    "#ninth model\n",
    "m39 = GCN_Less_layer_model_tanh_pyra(data_num_features=data.num_features, embedding_size=128)\n",
    "PATH_m39_init = \"Save_weight/weight/m39/m39_best.pth\"\n",
    "m39.load_state_dict(torch.load(PATH_m39_init, map_location=torch.device('cpu')))\n"
   ]
  },
  {
   "cell_type": "code",
   "execution_count": 34,
   "metadata": {},
   "outputs": [
    {
     "name": "stdout",
     "output_type": "stream",
     "text": [
      "test_loss : 0.33902418971061704\n",
      "test_loss : 0.3640887188911438\n",
      "test_loss : 0.0811873784661293\n",
      "test_loss : 0.5144201755523682\n",
      "test_loss : 0.4008382737636566\n",
      "test_loss : 0.09667727209627629\n",
      "test_loss : 0.3298597472906113\n",
      "test_loss : 0.15775559335947037\n",
      "test_loss : 0.3359324723482132\n"
     ]
    }
   ],
   "source": [
    "result = test(model=m31,test_set=training_set,loss_fn=loss_fn, device=torch.device('cpu'))\n",
    "print(f'test_loss : {result}')\n",
    "result = test(model=m32,test_set=training_set,loss_fn=loss_fn, device=torch.device('cpu'))\n",
    "print(f'test_loss : {result}')\n",
    "result = test(model=m33,test_set=training_set,loss_fn=loss_fn, device=torch.device('cpu'))\n",
    "print(f'test_loss : {result}')\n",
    "result = test(model=m34,test_set=training_set,loss_fn=loss_fn, device=torch.device('cpu'))\n",
    "print(f'test_loss : {result}')\n",
    "result = test(model=m35,test_set=training_set,loss_fn=loss_fn, device=torch.device('cpu'))\n",
    "print(f'test_loss : {result}')\n",
    "result = test(model=m36,test_set=training_set,loss_fn=loss_fn, device=torch.device('cpu'))\n",
    "print(f'test_loss : {result}')\n",
    "result = test(model=m37,test_set=training_set,loss_fn=loss_fn, device=torch.device('cpu'))\n",
    "print(f'test_loss : {result}')\n",
    "result = test(model=m38,test_set=training_set,loss_fn=loss_fn, device=torch.device('cpu'))\n",
    "print(f'test_loss : {result}')\n",
    "result = test(model=m39,test_set=training_set,loss_fn=loss_fn, device=torch.device('cpu'))\n",
    "print(f'test_loss : {result}')"
   ]
  },
  {
   "cell_type": "code",
   "execution_count": null,
   "metadata": {},
   "outputs": [],
   "source": []
  }
 ],
 "metadata": {
  "kernelspec": {
   "display_name": "Python 3",
   "language": "python",
   "name": "python3"
  },
  "language_info": {
   "codemirror_mode": {
    "name": "ipython",
    "version": 3
   },
   "file_extension": ".py",
   "mimetype": "text/x-python",
   "name": "python",
   "nbconvert_exporter": "python",
   "pygments_lexer": "ipython3",
   "version": "3.9.11"
  }
 },
 "nbformat": 4,
 "nbformat_minor": 2
}
